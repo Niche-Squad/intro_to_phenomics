{
 "cells": [
  {
   "cell_type": "markdown",
   "metadata": {},
   "source": [
    "# K-Means Clustering Algorithm\n",
    "**Author**: James Chen, School of Animal Sciences, Virginia Tech\n",
    "\n",
    "**Date**: Aug 3, 2022\n",
    "\n",
    "<center><img src=\"res/l03/cover.png\" width=\"900\"/></center>"
   ]
  },
  {
   "cell_type": "markdown",
   "metadata": {},
   "source": [
    "## **Set up the environment**\n",
    "### Clone the repository (demo data and scripts)"
   ]
  },
  {
   "cell_type": "code",
   "execution_count": null,
   "metadata": {},
   "outputs": [],
   "source": [
    "# use a exclamation mark, \"!\", to call Shell command in Python\n",
    "!git clone https://github.com/vt-ads/intro_to_phenomics"
   ]
  },
  {
   "cell_type": "markdown",
   "metadata": {},
   "source": [
    "### Change the working directory"
   ]
  },
  {
   "cell_type": "code",
   "execution_count": null,
   "metadata": {},
   "outputs": [],
   "source": [
    "import os\n",
    "# change WD\n",
    "os.chdir(\"/content/intro_to_phenomics\")\n",
    "# print WD\n",
    "print(\"Current folder: \", os.getcwd())"
   ]
  },
  {
   "cell_type": "markdown",
   "metadata": {},
   "source": [
    "### Imports"
   ]
  },
  {
   "cell_type": "code",
   "execution_count": 4,
   "metadata": {},
   "outputs": [],
   "source": [
    "import numpy as np\n",
    "import matplotlib.pyplot as plt"
   ]
  },
  {
   "cell_type": "markdown",
   "metadata": {},
   "source": [
    "## **Data**\n",
    "\n",
    "### Multivariate normal distribution\n",
    "First, we can simulate a structured data that is sampled from two different multivariate normal distributions.\n"
   ]
  },
  {
   "cell_type": "code",
   "execution_count": 194,
   "metadata": {},
   "outputs": [
    {
     "name": "stdout",
     "output_type": "stream",
     "text": [
      "Shape:  (100, 2)\n",
      "[[51.66251802 47.84412914]\n",
      " [39.71618565 50.12966424]\n",
      " [35.30204586 30.11518838]\n",
      " [41.21290983 37.45870684]\n",
      " [33.50222942 27.44831926]\n",
      " [45.59088463 45.32844912]\n",
      " [42.53108047 46.10790442]\n",
      " [28.29073007 52.30456678]\n",
      " [38.31237176 34.84785694]\n",
      " [29.25183562 43.67950456]\n",
      " [40.58293457 25.99292839]\n",
      " [45.3154831  45.79598333]\n",
      " [22.58292304 39.54979532]\n",
      " [33.92459233 43.18324273]\n",
      " [38.06019806 40.15521412]\n",
      " [38.81693873 47.34977002]\n",
      " [43.93189465 42.68070032]\n",
      " [46.3391774  51.42474463]\n",
      " [42.13973106 38.61929858]\n",
      " [45.20335028 38.9488359 ]]\n"
     ]
    }
   ],
   "source": [
    "# number of clusters\n",
    "k = 2\n",
    "# number of data points in each cluster\n",
    "n = 50\n",
    "# total number of data points\n",
    "N = n * k\n",
    "# cluster proerties: means and standard deviation\n",
    "means = [[40, 40], [60, 70]]\n",
    "stds = [[[80, 0],\n",
    "         [0, 70]],\n",
    "        [[60, 10],\n",
    "         [10, 90]]]\n",
    "\n",
    "# use np.random.multivariate_normal() to sample the datasets\n",
    "data = []\n",
    "for mean, std in zip(means, stds):\n",
    "    data += [np.random.multivariate_normal(mean=mean, cov=std, size=n)]\n",
    "data = np.concatenate(data)\n",
    "\n",
    "# validattion\n",
    "print(\"Shape: \", data.shape)\n",
    "print(data[:20])"
   ]
  },
  {
   "cell_type": "markdown",
   "metadata": {},
   "source": [
    "### Visualization\n",
    "It is always good to visually inspect your datasets. Here, we use the library `matplotlib` to visualize the data and to confirm the simulated structure."
   ]
  },
  {
   "cell_type": "code",
   "execution_count": null,
   "metadata": {},
   "outputs": [],
   "source": [
    "# plotting parameters\n",
    "param_pts = dict(s=80, alpha=.3)\n",
    "# plotting\n",
    "plt.figure(figsize=(8, 8))\n",
    "# data points\n",
    "plt.scatter(data[:n, 0], data[:n, 1],\n",
    "            c=\"red\", label=\"cluster_1\", **param_pts)\n",
    "plt.scatter(data[n:, 0], data[n:, 1],\n",
    "            c=\"blue\", label=\"cluster_2\", **param_pts)\n",
    "plt.title(\"Ground Truth\")\n",
    "# add plot legend\n",
    "plt.legend()"
   ]
  },
  {
   "cell_type": "markdown",
   "metadata": {},
   "source": [
    "## **Assumptions**\n",
    "Before we cluster the given data, we may integrate our prior knowledge or assumption to the clustering algorithms for better performance in both precision and time.\n",
    "\n",
    "### Centroids\n",
    "Centroids are the centeral coordinates, or average values, of each cluster. We have to provide initial centroids to start the clustering iterations. This step is essential to the model performance as improper initial states may lead to longer converence time or non-convergent results.\n",
    "\n",
    "In our example, however, we can randomly generate the initial centroids. As the data size is relatively small, and the data structure is clearly defined."
   ]
  },
  {
   "cell_type": "code",
   "execution_count": null,
   "metadata": {},
   "outputs": [],
   "source": [
    "centroids = data[np.random.choice(N, k)]\n",
    "\n",
    "# plotting parameters\n",
    "param_pts = dict(s=80, alpha=.3)\n",
    "param_cts = dict(s=250, edgecolor=\"black\")\n",
    "# plotting\n",
    "plt.figure(figsize=(8, 8))\n",
    "# data points\n",
    "plt.scatter(data[:, 0], data[:, 1], c=\"black\", **param_pts)\n",
    "# centroids\n",
    "plt.scatter(centroids[0, 0], centroids[0, 1],\n",
    "            c=\"red\", label=\"centroid_1\", **param_cts)\n",
    "plt.scatter(centroids[1, 0], centroids[1, 1],\n",
    "            c=\"blue\", label=\"centroid_2\", **param_cts)\n",
    "# add plot legend\n",
    "plt.legend()"
   ]
  },
  {
   "cell_type": "markdown",
   "metadata": {},
   "source": [
    "### Distance\n",
    "The distance deviation between the centroids and each data point is another key component in clustering algorithm. This is a guidance (loss function) for the model to be trained and generate ideal outcomes. For example, if we want to cluster a genetic sequence based on their recombination rates, we have to take genetic distances into consideration when we define the loss function.\n",
    "\n",
    "But again, in this note, we try to keep everything as simple as possible. The distance between data points will be evaluted by Euclidean distance."
   ]
  },
  {
   "cell_type": "code",
   "execution_count": null,
   "metadata": {},
   "outputs": [],
   "source": [
    "# define the evaluation function\n",
    "def euclidean_distance(x, y):\n",
    "    return np.sum((x - y) ** 2) ** .5\n",
    "\n",
    "# validate the result\n",
    "x = np.array([0, 0])\n",
    "y = np.array([3, 4])\n",
    "print(\"the distance is: \", euclidean_distance(x, y))"
   ]
  },
  {
   "cell_type": "markdown",
   "metadata": {},
   "source": [
    "## **Clustering algorithm**\n",
    "K-Means clustering algorithm consists of two major stages: `assignment` and `update`. Iteratively implementing these two stages is expected to cluster the given datasets based on the defined distance function and provided centroids.\n",
    "\n",
    "### Assignment stage\n",
    "In this stage, each point will be assigned to the cluster that has the shortest distance from its centroid.\n",
    "<center><img src=\"res/l03/assignment.png\" width=\"800\"/></center>"
   ]
  },
  {
   "cell_type": "code",
   "execution_count": null,
   "metadata": {},
   "outputs": [],
   "source": [
    "# collect the data parameters\n",
    "N = len(data)\n",
    "k = len(centroids)\n",
    "\n",
    "# create an empty matrix to keep all evaluated distances\n",
    "distances = np.zeros((N, k))\n",
    "\n",
    "# iterate through each data point\n",
    "for i, x in enumerate(data):\n",
    "    # iterate through each cluster\n",
    "    for j, center in enumerate(centroids):\n",
    "        distances[i, j] = euclidean_distance(x, center)\n",
    "\n",
    "# this will return the position of the smallest values\n",
    "labels = np.argmin(distances, axis=1)\n",
    "\n",
    "# validation\n",
    "print(\"Assigned cluster: \\n\", labels)"
   ]
  },
  {
   "cell_type": "markdown",
   "metadata": {},
   "source": [
    "### Update stage\n",
    "<center><img src=\"res/l03/update.png\" width=\"800\"/></center>"
   ]
  },
  {
   "cell_type": "code",
   "execution_count": 220,
   "metadata": {},
   "outputs": [
    {
     "name": "stdout",
     "output_type": "stream",
     "text": [
      "New center: \n",
      " [[46.03119778 49.50940525]\n",
      " [65.17052381 76.45371394]]\n"
     ]
    }
   ],
   "source": [
    "# create an empty matrix to keep the new centroids\n",
    "new_centroids = np.zeros((k, 2))\n",
    "\n",
    "# iterate over each cluster\n",
    "for i in range(k):\n",
    "    new_centroids[i] = data[labels == i].mean(axis=0)\n",
    "\n",
    "# validation\n",
    "print(\"New center: \\n\", new_centroids)"
   ]
  },
  {
   "cell_type": "markdown",
   "metadata": {},
   "source": [
    "### Another assignment stage"
   ]
  },
  {
   "cell_type": "code",
   "execution_count": 221,
   "metadata": {},
   "outputs": [],
   "source": [
    "distances = np.zeros((N, k))\n",
    "for i, x in enumerate(data):\n",
    "    for j, center in enumerate(new_centroids):\n",
    "        distances[i, j] = euclidean_distance(x, center)\n",
    "new_labels = np.argmin(distances, axis=1)"
   ]
  },
  {
   "cell_type": "markdown",
   "metadata": {},
   "source": [
    "### Visualize the outcome"
   ]
  },
  {
   "cell_type": "code",
   "execution_count": 233,
   "metadata": {},
   "outputs": [
    {
     "data": {
      "text/plain": [
       "<matplotlib.legend.Legend at 0x2c9670670>"
      ]
     },
     "execution_count": 233,
     "metadata": {},
     "output_type": "execute_result"
    },
    {
     "data": {
      "image/png": "[encoded data removed]",
      "text/plain": [
       "<Figure size 1080x1080 with 4 Axes>"
      ]
     },
     "metadata": {
      "needs_background": "light"
     },
     "output_type": "display_data"
    }
   ],
   "source": [
    "# inner loop\n",
    "param_pts = [dict(c=\"red\",  label=\"cluster_1\", s=80, alpha=.3),\n",
    "             dict(c=\"blue\", label=\"cluster_2\", s=80, alpha=.3)]\n",
    "param_cts = [dict(c=\"red\",  label=\"centroid_1\", s=250, edgecolor=\"black\"),\n",
    "             dict(c=\"blue\", label=\"centroid_2\", s=250, edgecolor=\"black\")]\n",
    "\n",
    "# outer loop\n",
    "titles = [\"Iter: 0 (Initial centroids)\",\n",
    "          \"Iter: 1 (Assignment stage)\",\n",
    "          \"Iter: 1 (Update stage)\",\n",
    "          \"Iter: 2 (Assignment stage)\"]\n",
    "ls_data = [[data[:n],            data[n:]],\n",
    "           [data[labels==0],     data[labels==1]],\n",
    "           [data[labels==0],     data[labels==1]],\n",
    "           [data[new_labels==0], data[new_labels==1]]]\n",
    "ls_cts  = [centroids,\n",
    "           centroids,\n",
    "           new_centroids,\n",
    "           new_centroids]\n",
    "\n",
    "# create a new figure\n",
    "fig = plt.figure(figsize=(15, 15))\n",
    "# iterate over subplots\n",
    "for (i, title, pts, cts) in zip(range(4), titles, ls_data, ls_cts):\n",
    "    axis = fig.add_subplot(2, 2, i + 1)\n",
    "    axis.set_title(title)\n",
    "    # iterate over clusters\n",
    "    for (pt, ct, param_pt, param_ct) in zip(pts, cts, param_pts, param_cts):\n",
    "        if i != 0:\n",
    "            axis.scatter(x=pt[:, 0], y=pt[:, 1], **param_pt)\n",
    "        else:\n",
    "            axis.scatter(x=data[:, 0], y=data[:, 1], label=\"unlabeled data\", c=\"black\", s=80, alpha=.3)\n",
    "        axis.scatter(x=ct[0], y=ct[1], **param_ct)\n",
    "axis.legend(loc='upper left')"
   ]
  },
  {
   "cell_type": "markdown",
   "metadata": {},
   "source": [
    "### Put things together\n",
    "We can collect all code blocks and put them into one signle function `kmeans(X, k)`, where `X` is a 2D matrix in a shape of `(n, p)`, and `k` is the number of clusters.\n",
    "\n",
    "<center><img src=\"res/l03/kmeans.png\" width=\"600\"/></center>"
   ]
  },
  {
   "cell_type": "code",
   "execution_count": 133,
   "metadata": {},
   "outputs": [],
   "source": [
    "def kmeans(X, k, niter=20):\n",
    "    pass\n",
    "    return dict(labels=labels, centers=centers)"
   ]
  },
  {
   "cell_type": "code",
   "execution_count": 235,
   "metadata": {},
   "outputs": [
    {
     "data": {
      "text/plain": [
       "{'labels': array([0, 0, 0, 0, 0, 0, 0, 0, 0, 0, 0, 0, 0, 0, 0, 0, 0, 0, 0, 0, 0, 0,\n",
       "        0, 0, 0, 0, 0, 0, 0, 0, 0, 0, 0, 0, 0, 0, 0, 0, 0, 0, 0, 0, 0, 0,\n",
       "        0, 0, 0, 0, 0, 0, 1, 1, 1, 1, 1, 1, 1, 1, 1, 1, 1, 0, 1, 1, 1, 1,\n",
       "        1, 1, 0, 1, 1, 1, 1, 1, 1, 1, 1, 1, 1, 1, 1, 1, 1, 1, 1, 1, 1, 1,\n",
       "        1, 1, 1, 1, 1, 1, 1, 1, 1, 1, 1, 1]),\n",
       " 'centers': array([[39.43982725, 41.26782558],\n",
       "        [61.54530433, 70.22591828]])}"
      ]
     },
     "execution_count": 235,
     "metadata": {},
     "output_type": "execute_result"
    }
   ],
   "source": [
    "kmean = kmeans(X=data, k=2, niter=3)\n",
    "kmean"
   ]
  },
  {
   "cell_type": "code",
   "execution_count": 1,
   "metadata": {},
   "outputs": [
    {
     "ename": "ErrorException",
     "evalue": "syntax: missing last argument in \"n:\" range expression ",
     "output_type": "error",
     "traceback": [
      "syntax: missing last argument in \"n:\" range expression \n",
      "\n",
      "Stacktrace:\n",
      " [1] top-level scope\n",
      "   @ ~/Library/CloudStorage/OneDrive-VirginiaTech/github/intro_to_phenomics/l03_kmeans.ipynb:2"
     ]
    }
   ],
   "source": [
    "titles  = [\"Ground truth\", \"K-Means (iter: 10)\"]\n",
    "ls_data = [[data[:n],                 data[n:]],\n",
    "           [data[kmean[\"labels\"]==0], data[kmean[\"labels\"]==1]]]\n",
    "ls_cts  = [centroids, kmean[\"centers\"]]\n",
    "\n",
    "# create a new figure\n",
    "fig = plt.figure(figsize=(16, 8))\n",
    "# iterate over subplots\n",
    "for (i, title, pts, cts) in zip(range(2), titles, ls_data, ls_cts):\n",
    "    axis = fig.add_subplot(1, 2, i + 1)\n",
    "    axis.set_title(title)\n",
    "    # iterate over clusters\n",
    "    for (pt, ct, param_pt, param_ct) in zip(pts, cts, param_pts, param_cts):\n",
    "        axis.scatter(x=pt[:, 0], y=pt[:, 1], **param_pt)\n",
    "        if i != 0:\n",
    "            axis.scatter(x=ct[0], y=ct[1],   **param_ct)\n"
   ]
  },
  {
   "cell_type": "markdown",
   "metadata": {},
   "source": [
    "## *Work with real data*\n",
    "### Load the image"
   ]
  },
  {
   "cell_type": "code",
   "execution_count": 5,
   "metadata": {},
   "outputs": [
    {
     "data": {
      "text/plain": [
       "<matplotlib.image.AxesImage at 0x10f48cbe0>"
      ]
     },
     "execution_count": 5,
     "metadata": {},
     "output_type": "execute_result"
    },
    {
     "data": {
      "image/png": "[encoded data removed]",
      "text/plain": [
       "<Figure size 504x504 with 1 Axes>"
      ]
     },
     "metadata": {
      "needs_background": "light"
     },
     "output_type": "display_data"
    }
   ],
   "source": [
    "from modules.image_handler import load_img\n",
    "img = load_img(\"data/plots.jpg\")\n",
    "plt.figure(figsize=(7, 7))\n",
    "plt.imshow(img)"
   ]
  },
  {
   "cell_type": "markdown",
   "metadata": {},
   "source": [
    "### Dataframe"
   ]
  },
  {
   "cell_type": "code",
   "execution_count": 6,
   "metadata": {},
   "outputs": [
    {
     "name": "stdout",
     "output_type": "stream",
     "text": [
      "       red  green  blue\n",
      "0      134    135    75\n",
      "1      150    152    89\n",
      "2      157    162    96\n",
      "3      169    174   107\n",
      "4      156    163    96\n",
      "...    ...    ...   ...\n",
      "29051  181    185   111\n",
      "29052  162    166    92\n",
      "29053  121    120    56\n",
      "29054  132    131    67\n",
      "29055  173    173   109\n",
      "\n",
      "[29056 rows x 3 columns]\n"
     ]
    }
   ],
   "source": [
    "import pandas as pd\n",
    "df = pd.DataFrame(img.reshape((-1, 3)))\n",
    "df.columns = [\"red\", \"green\", \"blue\"]\n",
    "print(df)"
   ]
  },
  {
   "cell_type": "code",
   "execution_count": 7,
   "metadata": {},
   "outputs": [
    {
     "data": {
      "application/vnd.plotly.v1+json": {
       "config": {
        "plotlyServerURL": "https://plot.ly"
       },
       "data": [
        {
         "marker": {
          "opacity": 0.7,
          "size": 5,
          "symbol": "circle"
         },
         "mode": "markers",
         "name": "pixel value",
         "type": "scatter3d",
         "x": [
          134,
          78,
          150,
          130,
          157,
          129,
          143,
          137,
          141,
          134,
          117,
          137,
          130,
          132,
          147,
          138,
          146,
          103,
          140,
          126,
          133,
          52,
          144,
          80,
          74,
          96,
          58,
          115,
          129,
          24,
          58,
          130,
          32,
          12,
          148,
          37,
          31,
          35,
          45,
          28,
          15,
          25,
          24,
          19,
          47,
          33,
          13,
          112,
          40,
          9,
          30,
          26,
          27,
          136,
          31,
          18,
          110,
          22,
          21,
          111,
          19,
          17,
          93,
          33,
          32,
          107,
          32,
          20,
          130,
          8,
          26,
          143,
          43,
          22,
          39,
          36,
          41,
          39,
          62,
          41,
          40,
          110,
          29,
          61,
          144,
          39,
          66,
          146,
          76,
          51,
          150,
          36,
          138,
          140,
          32,
          154,
          141,
          141,
          112,
          131,
          141,
          151,
          157,
          156,
          142,
          157,
          148,
          30,
          116,
          145,
          146,
          102,
          157,
          16,
          94,
          151,
          20,
          36,
          133,
          27,
          61,
          65,
          26,
          14,
          41,
          9,
          24,
          29,
          36,
          29,
          17,
          38,
          34,
          33,
          42,
          36,
          18,
          73,
          36,
          28,
          126,
          30,
          29,
          118,
          28,
          36,
          89,
          40,
          26,
          102,
          28,
          38,
          151,
          27,
          22,
          20,
          43,
          45,
          99,
          21,
          30,
          10,
          38,
          29,
          26,
          125,
          23,
          21,
          125,
          38,
          27,
          133,
          24,
          40,
          141,
          21,
          26,
          117,
          45,
          47,
          129,
          130,
          71,
          150,
          85,
          115,
          164,
          146,
          106,
          145,
          150,
          117,
          120,
          180,
          135,
          150,
          103,
          120,
          151,
          148,
          134,
          76,
          182,
          119,
          133,
          128,
          143,
          26,
          78,
          143,
          115,
          18,
          49,
          31,
          36,
          175,
          30,
          32,
          162,
          19,
          26,
          55,
          19,
          17,
          153,
          16,
          25,
          145,
          25,
          21,
          154,
          24,
          29,
          115,
          28,
          18,
          14,
          23,
          30,
          75,
          31,
          25,
          20,
          26,
          29,
          20,
          34,
          16,
          22,
          91,
          29,
          26,
          99,
          24,
          22,
          102,
          21,
          16,
          140,
          34,
          31,
          119,
          30,
          26,
          124,
          31,
          23,
          143,
          66,
          33,
          70,
          117,
          119,
          162,
          85,
          93,
          104,
          141,
          123,
          121,
          125,
          162,
          110,
          159,
          152,
          152,
          141,
          129,
          145,
          134,
          127
         ],
         "y": [
          135,
          80,
          156,
          133,
          158,
          137,
          148,
          138,
          141,
          140,
          121,
          146,
          135,
          139,
          153,
          137,
          147,
          108,
          151,
          125,
          140,
          57,
          144,
          84,
          83,
          104,
          55,
          116,
          130,
          26,
          81,
          130,
          51,
          30,
          152,
          49,
          37,
          37,
          68,
          40,
          23,
          44,
          43,
          29,
          70,
          51,
          38,
          134,
          61,
          26,
          61,
          48,
          40,
          135,
          53,
          35,
          109,
          48,
          45,
          105,
          36,
          34,
          93,
          59,
          53,
          109,
          58,
          37,
          128,
          30,
          47,
          149,
          78,
          51,
          42,
          71,
          64,
          48,
          82,
          66,
          50,
          104,
          55,
          76,
          151,
          55,
          82,
          148,
          99,
          67,
          155,
          59,
          147,
          141,
          56,
          161,
          146,
          146,
          128,
          133,
          152,
          148,
          165,
          146,
          144,
          161,
          150,
          39,
          116,
          143,
          148,
          103,
          157,
          23,
          96,
          152,
          28,
          32,
          139,
          30,
          76,
          67,
          56,
          27,
          41,
          27,
          44,
          37,
          63,
          53,
          30,
          77,
          54,
          53,
          63,
          55,
          44,
          102,
          66,
          50,
          131,
          51,
          48,
          127,
          51,
          65,
          96,
          60,
          43,
          101,
          42,
          67,
          154,
          47,
          45,
          38,
          82,
          74,
          99,
          50,
          54,
          20,
          63,
          55,
          40,
          125,
          48,
          38,
          129,
          53,
          52,
          128,
          40,
          69,
          144,
          35,
          46,
          117,
          70,
          66,
          129,
          151,
          82,
          149,
          95,
          124,
          170,
          144,
          125,
          151,
          151,
          119,
          117,
          179,
          136,
          152,
          105,
          125,
          151,
          148,
          136,
          80,
          186,
          119,
          141,
          126,
          147,
          31,
          80,
          140,
          122,
          19,
          58,
          40,
          47,
          174,
          48,
          44,
          162,
          33,
          45,
          70,
          37,
          35,
          154,
          33,
          44,
          150,
          42,
          47,
          152,
          48,
          52,
          117,
          58,
          33,
          25,
          36,
          47,
          80,
          50,
          43,
          35,
          50,
          47,
          42,
          60,
          30,
          34,
          102,
          53,
          50,
          102,
          41,
          45,
          100,
          39,
          31,
          142,
          53,
          50,
          120,
          48,
          51,
          127,
          61,
          41,
          138,
          93,
          56,
          88,
          137,
          133,
          163,
          86,
          111,
          107,
          145,
          128,
          129,
          125,
          165,
          109,
          159,
          155,
          153,
          142,
          131,
          147,
          138,
          132
         ],
         "z": [
          75,
          31,
          96,
          76,
          98,
          80,
          82,
          80,
          79,
          76,
          62,
          81,
          77,
          69,
          83,
          83,
          90,
          52,
          93,
          68,
          72,
          37,
          80,
          57,
          54,
          47,
          40,
          74,
          72,
          13,
          39,
          70,
          19,
          4,
          91,
          29,
          33,
          26,
          42,
          28,
          12,
          25,
          23,
          21,
          26,
          35,
          8,
          88,
          42,
          7,
          30,
          25,
          23,
          79,
          30,
          16,
          65,
          23,
          23,
          55,
          20,
          16,
          43,
          34,
          34,
          62,
          33,
          19,
          77,
          7,
          28,
          89,
          38,
          21,
          11,
          41,
          38,
          31,
          29,
          37,
          25,
          52,
          30,
          53,
          81,
          26,
          43,
          82,
          55,
          30,
          88,
          33,
          84,
          81,
          22,
          84,
          79,
          79,
          66,
          70,
          84,
          77,
          90,
          84,
          79,
          85,
          77,
          36,
          56,
          86,
          99,
          71,
          93,
          15,
          56,
          82,
          15,
          20,
          75,
          21,
          55,
          17,
          30,
          10,
          29,
          15,
          17,
          24,
          28,
          31,
          20,
          33,
          29,
          28,
          24,
          35,
          15,
          44,
          30,
          29,
          67,
          32,
          28,
          72,
          31,
          34,
          55,
          32,
          27,
          53,
          25,
          36,
          107,
          20,
          25,
          12,
          51,
          43,
          73,
          20,
          28,
          11,
          23,
          26,
          27,
          73,
          26,
          20,
          70,
          34,
          30,
          73,
          14,
          38,
          73,
          10,
          19,
          57,
          30,
          38,
          67,
          86,
          50,
          93,
          45,
          79,
          98,
          87,
          70,
          77,
          91,
          53,
          72,
          114,
          78,
          79,
          58,
          69,
          97,
          84,
          71,
          43,
          109,
          69,
          90,
          69,
          88,
          9,
          58,
          73,
          78,
          14,
          29,
          21,
          33,
          109,
          24,
          30,
          92,
          18,
          25,
          37,
          21,
          21,
          96,
          15,
          25,
          84,
          26,
          20,
          93,
          22,
          32,
          78,
          32,
          14,
          11,
          19,
          31,
          57,
          31,
          27,
          16,
          24,
          35,
          19,
          31,
          17,
          24,
          62,
          29,
          28,
          49,
          23,
          25,
          62,
          23,
          12,
          79,
          31,
          31,
          86,
          26,
          19,
          80,
          27,
          15,
          80,
          52,
          30,
          46,
          76,
          80,
          95,
          46,
          63,
          62,
          86,
          70,
          70,
          63,
          96,
          53,
          95,
          84,
          93,
          74,
          68,
          82,
          79,
          68
         ]
        }
       ],
       "layout": {
        "margin": {
         "b": 0,
         "l": 100,
         "r": 200,
         "t": 0
        },
        "scene": {
         "xaxis": {
          "title": {
           "text": "red"
          }
         },
         "yaxis": {
          "title": {
           "text": "green"
          }
         },
         "zaxis": {
          "title": {
           "text": "blue"
          }
         }
        },
        "template": {
         "data": {
          "bar": [
           {
            "error_x": {
             "color": "#2a3f5f"
            },
            "error_y": {
             "color": "#2a3f5f"
            },
            "marker": {
             "line": {
              "color": "#E5ECF6",
              "width": 0.5
             },
             "pattern": {
              "fillmode": "overlay",
              "size": 10,
              "solidity": 0.2
             }
            },
            "type": "bar"
           }
          ],
          "barpolar": [
           {
            "marker": {
             "line": {
              "color": "#E5ECF6",
              "width": 0.5
             },
             "pattern": {
              "fillmode": "overlay",
              "size": 10,
              "solidity": 0.2
             }
            },
            "type": "barpolar"
           }
          ],
          "carpet": [
           {
            "aaxis": {
             "endlinecolor": "#2a3f5f",
             "gridcolor": "white",
             "linecolor": "white",
             "minorgridcolor": "white",
             "startlinecolor": "#2a3f5f"
            },
            "baxis": {
             "endlinecolor": "#2a3f5f",
             "gridcolor": "white",
             "linecolor": "white",
             "minorgridcolor": "white",
             "startlinecolor": "#2a3f5f"
            },
            "type": "carpet"
           }
          ],
          "choropleth": [
           {
            "colorbar": {
             "outlinewidth": 0,
             "ticks": ""
            },
            "type": "choropleth"
           }
          ],
          "contour": [
           {
            "colorbar": {
             "outlinewidth": 0,
             "ticks": ""
            },
            "colorscale": [
             [
              0,
              "#0d0887"
             ],
             [
              0.1111111111111111,
              "#46039f"
             ],
             [
              0.2222222222222222,
              "#7201a8"
             ],
             [
              0.3333333333333333,
              "#9c179e"
             ],
             [
              0.4444444444444444,
              "#bd3786"
             ],
             [
              0.5555555555555556,
              "#d8576b"
             ],
             [
              0.6666666666666666,
              "#ed7953"
             ],
             [
              0.7777777777777778,
              "#fb9f3a"
             ],
             [
              0.8888888888888888,
              "#fdca26"
             ],
             [
              1,
              "#f0f921"
             ]
            ],
            "type": "contour"
           }
          ],
          "contourcarpet": [
           {
            "colorbar": {
             "outlinewidth": 0,
             "ticks": ""
            },
            "type": "contourcarpet"
           }
          ],
          "heatmap": [
           {
            "colorbar": {
             "outlinewidth": 0,
             "ticks": ""
            },
            "colorscale": [
             [
              0,
              "#0d0887"
             ],
             [
              0.1111111111111111,
              "#46039f"
             ],
             [
              0.2222222222222222,
              "#7201a8"
             ],
             [
              0.3333333333333333,
              "#9c179e"
             ],
             [
              0.4444444444444444,
              "#bd3786"
             ],
             [
              0.5555555555555556,
              "#d8576b"
             ],
             [
              0.6666666666666666,
              "#ed7953"
             ],
             [
              0.7777777777777778,
              "#fb9f3a"
             ],
             [
              0.8888888888888888,
              "#fdca26"
             ],
             [
              1,
              "#f0f921"
             ]
            ],
            "type": "heatmap"
           }
          ],
          "heatmapgl": [
           {
            "colorbar": {
             "outlinewidth": 0,
             "ticks": ""
            },
            "colorscale": [
             [
              0,
              "#0d0887"
             ],
             [
              0.1111111111111111,
              "#46039f"
             ],
             [
              0.2222222222222222,
              "#7201a8"
             ],
             [
              0.3333333333333333,
              "#9c179e"
             ],
             [
              0.4444444444444444,
              "#bd3786"
             ],
             [
              0.5555555555555556,
              "#d8576b"
             ],
             [
              0.6666666666666666,
              "#ed7953"
             ],
             [
              0.7777777777777778,
              "#fb9f3a"
             ],
             [
              0.8888888888888888,
              "#fdca26"
             ],
             [
              1,
              "#f0f921"
             ]
            ],
            "type": "heatmapgl"
           }
          ],
          "histogram": [
           {
            "marker": {
             "pattern": {
              "fillmode": "overlay",
              "size": 10,
              "solidity": 0.2
             }
            },
            "type": "histogram"
           }
          ],
          "histogram2d": [
           {
            "colorbar": {
             "outlinewidth": 0,
             "ticks": ""
            },
            "colorscale": [
             [
              0,
              "#0d0887"
             ],
             [
              0.1111111111111111,
              "#46039f"
             ],
             [
              0.2222222222222222,
              "#7201a8"
             ],
             [
              0.3333333333333333,
              "#9c179e"
             ],
             [
              0.4444444444444444,
              "#bd3786"
             ],
             [
              0.5555555555555556,
              "#d8576b"
             ],
             [
              0.6666666666666666,
              "#ed7953"
             ],
             [
              0.7777777777777778,
              "#fb9f3a"
             ],
             [
              0.8888888888888888,
              "#fdca26"
             ],
             [
              1,
              "#f0f921"
             ]
            ],
            "type": "histogram2d"
           }
          ],
          "histogram2dcontour": [
           {
            "colorbar": {
             "outlinewidth": 0,
             "ticks": ""
            },
            "colorscale": [
             [
              0,
              "#0d0887"
             ],
             [
              0.1111111111111111,
              "#46039f"
             ],
             [
              0.2222222222222222,
              "#7201a8"
             ],
             [
              0.3333333333333333,
              "#9c179e"
             ],
             [
              0.4444444444444444,
              "#bd3786"
             ],
             [
              0.5555555555555556,
              "#d8576b"
             ],
             [
              0.6666666666666666,
              "#ed7953"
             ],
             [
              0.7777777777777778,
              "#fb9f3a"
             ],
             [
              0.8888888888888888,
              "#fdca26"
             ],
             [
              1,
              "#f0f921"
             ]
            ],
            "type": "histogram2dcontour"
           }
          ],
          "mesh3d": [
           {
            "colorbar": {
             "outlinewidth": 0,
             "ticks": ""
            },
            "type": "mesh3d"
           }
          ],
          "parcoords": [
           {
            "line": {
             "colorbar": {
              "outlinewidth": 0,
              "ticks": ""
             }
            },
            "type": "parcoords"
           }
          ],
          "pie": [
           {
            "automargin": true,
            "type": "pie"
           }
          ],
          "scatter": [
           {
            "fillpattern": {
             "fillmode": "overlay",
             "size": 10,
             "solidity": 0.2
            },
            "type": "scatter"
           }
          ],
          "scatter3d": [
           {
            "line": {
             "colorbar": {
              "outlinewidth": 0,
              "ticks": ""
             }
            },
            "marker": {
             "colorbar": {
              "outlinewidth": 0,
              "ticks": ""
             }
            },
            "type": "scatter3d"
           }
          ],
          "scattercarpet": [
           {
            "marker": {
             "colorbar": {
              "outlinewidth": 0,
              "ticks": ""
             }
            },
            "type": "scattercarpet"
           }
          ],
          "scattergeo": [
           {
            "marker": {
             "colorbar": {
              "outlinewidth": 0,
              "ticks": ""
             }
            },
            "type": "scattergeo"
           }
          ],
          "scattergl": [
           {
            "marker": {
             "colorbar": {
              "outlinewidth": 0,
              "ticks": ""
             }
            },
            "type": "scattergl"
           }
          ],
          "scattermapbox": [
           {
            "marker": {
             "colorbar": {
              "outlinewidth": 0,
              "ticks": ""
             }
            },
            "type": "scattermapbox"
           }
          ],
          "scatterpolar": [
           {
            "marker": {
             "colorbar": {
              "outlinewidth": 0,
              "ticks": ""
             }
            },
            "type": "scatterpolar"
           }
          ],
          "scatterpolargl": [
           {
            "marker": {
             "colorbar": {
              "outlinewidth": 0,
              "ticks": ""
             }
            },
            "type": "scatterpolargl"
           }
          ],
          "scatterternary": [
           {
            "marker": {
             "colorbar": {
              "outlinewidth": 0,
              "ticks": ""
             }
            },
            "type": "scatterternary"
           }
          ],
          "surface": [
           {
            "colorbar": {
             "outlinewidth": 0,
             "ticks": ""
            },
            "colorscale": [
             [
              0,
              "#0d0887"
             ],
             [
              0.1111111111111111,
              "#46039f"
             ],
             [
              0.2222222222222222,
              "#7201a8"
             ],
             [
              0.3333333333333333,
              "#9c179e"
             ],
             [
              0.4444444444444444,
              "#bd3786"
             ],
             [
              0.5555555555555556,
              "#d8576b"
             ],
             [
              0.6666666666666666,
              "#ed7953"
             ],
             [
              0.7777777777777778,
              "#fb9f3a"
             ],
             [
              0.8888888888888888,
              "#fdca26"
             ],
             [
              1,
              "#f0f921"
             ]
            ],
            "type": "surface"
           }
          ],
          "table": [
           {
            "cells": {
             "fill": {
              "color": "#EBF0F8"
             },
             "line": {
              "color": "white"
             }
            },
            "header": {
             "fill": {
              "color": "#C8D4E3"
             },
             "line": {
              "color": "white"
             }
            },
            "type": "table"
           }
          ]
         },
         "layout": {
          "annotationdefaults": {
           "arrowcolor": "#2a3f5f",
           "arrowhead": 0,
           "arrowwidth": 1
          },
          "autotypenumbers": "strict",
          "coloraxis": {
           "colorbar": {
            "outlinewidth": 0,
            "ticks": ""
           }
          },
          "colorscale": {
           "diverging": [
            [
             0,
             "#8e0152"
            ],
            [
             0.1,
             "#c51b7d"
            ],
            [
             0.2,
             "#de77ae"
            ],
            [
             0.3,
             "#f1b6da"
            ],
            [
             0.4,
             "#fde0ef"
            ],
            [
             0.5,
             "#f7f7f7"
            ],
            [
             0.6,
             "#e6f5d0"
            ],
            [
             0.7,
             "#b8e186"
            ],
            [
             0.8,
             "#7fbc41"
            ],
            [
             0.9,
             "#4d9221"
            ],
            [
             1,
             "#276419"
            ]
           ],
           "sequential": [
            [
             0,
             "#0d0887"
            ],
            [
             0.1111111111111111,
             "#46039f"
            ],
            [
             0.2222222222222222,
             "#7201a8"
            ],
            [
             0.3333333333333333,
             "#9c179e"
            ],
            [
             0.4444444444444444,
             "#bd3786"
            ],
            [
             0.5555555555555556,
             "#d8576b"
            ],
            [
             0.6666666666666666,
             "#ed7953"
            ],
            [
             0.7777777777777778,
             "#fb9f3a"
            ],
            [
             0.8888888888888888,
             "#fdca26"
            ],
            [
             1,
             "#f0f921"
            ]
           ],
           "sequentialminus": [
            [
             0,
             "#0d0887"
            ],
            [
             0.1111111111111111,
             "#46039f"
            ],
            [
             0.2222222222222222,
             "#7201a8"
            ],
            [
             0.3333333333333333,
             "#9c179e"
            ],
            [
             0.4444444444444444,
             "#bd3786"
            ],
            [
             0.5555555555555556,
             "#d8576b"
            ],
            [
             0.6666666666666666,
             "#ed7953"
            ],
            [
             0.7777777777777778,
             "#fb9f3a"
            ],
            [
             0.8888888888888888,
             "#fdca26"
            ],
            [
             1,
             "#f0f921"
            ]
           ]
          },
          "colorway": [
           "#636efa",
           "#EF553B",
           "#00cc96",
           "#ab63fa",
           "#FFA15A",
           "#19d3f3",
           "#FF6692",
           "#B6E880",
           "#FF97FF",
           "#FECB52"
          ],
          "font": {
           "color": "#2a3f5f"
          },
          "geo": {
           "bgcolor": "white",
           "lakecolor": "white",
           "landcolor": "#E5ECF6",
           "showlakes": true,
           "showland": true,
           "subunitcolor": "white"
          },
          "hoverlabel": {
           "align": "left"
          },
          "hovermode": "closest",
          "mapbox": {
           "style": "light"
          },
          "paper_bgcolor": "white",
          "plot_bgcolor": "#E5ECF6",
          "polar": {
           "angularaxis": {
            "gridcolor": "white",
            "linecolor": "white",
            "ticks": ""
           },
           "bgcolor": "#E5ECF6",
           "radialaxis": {
            "gridcolor": "white",
            "linecolor": "white",
            "ticks": ""
           }
          },
          "scene": {
           "xaxis": {
            "backgroundcolor": "#E5ECF6",
            "gridcolor": "white",
            "gridwidth": 2,
            "linecolor": "white",
            "showbackground": true,
            "ticks": "",
            "zerolinecolor": "white"
           },
           "yaxis": {
            "backgroundcolor": "#E5ECF6",
            "gridcolor": "white",
            "gridwidth": 2,
            "linecolor": "white",
            "showbackground": true,
            "ticks": "",
            "zerolinecolor": "white"
           },
           "zaxis": {
            "backgroundcolor": "#E5ECF6",
            "gridcolor": "white",
            "gridwidth": 2,
            "linecolor": "white",
            "showbackground": true,
            "ticks": "",
            "zerolinecolor": "white"
           }
          },
          "shapedefaults": {
           "line": {
            "color": "#2a3f5f"
           }
          },
          "ternary": {
           "aaxis": {
            "gridcolor": "white",
            "linecolor": "white",
            "ticks": ""
           },
           "baxis": {
            "gridcolor": "white",
            "linecolor": "white",
            "ticks": ""
           },
           "bgcolor": "#E5ECF6",
           "caxis": {
            "gridcolor": "white",
            "linecolor": "white",
            "ticks": ""
           }
          },
          "title": {
           "x": 0.05
          },
          "xaxis": {
           "automargin": true,
           "gridcolor": "white",
           "linecolor": "white",
           "ticks": "",
           "title": {
            "standoff": 15
           },
           "zerolinecolor": "white",
           "zerolinewidth": 2
          },
          "yaxis": {
           "automargin": true,
           "gridcolor": "white",
           "linecolor": "white",
           "ticks": "",
           "title": {
            "standoff": 15
           },
           "zerolinecolor": "white",
           "zerolinewidth": 2
          }
         }
        }
       }
      }
     },
     "metadata": {},
     "output_type": "display_data"
    }
   ],
   "source": [
    "import plotly\n",
    "import plotly.express as px\n",
    "import plotly.graph_objs as go\n",
    "dfs = df.iloc[::100, ] # sample 1 data point every 100 pixels\n",
    "points = go.Scatter3d(x=dfs.red, y=dfs.green, z=dfs.blue,\n",
    "                    mode='markers', name='pixel value',\n",
    "                    marker=dict(size=5, symbol='circle', opacity=0.7))\n",
    "layout = go.Layout(scene=dict(xaxis=dict(title=\"red\"),\n",
    "                              yaxis=dict(title=\"green\"),\n",
    "                              zaxis=dict(title=\"blue\")),\n",
    "                   margin=dict(l=100, r=200, b=0, t=0))\n",
    "fig = go.Figure(data=[points], layout=layout)\n",
    "fig.show()"
   ]
  },
  {
   "cell_type": "code",
   "execution_count": 8,
   "metadata": {},
   "outputs": [],
   "source": [
    "from modules.kmeans import KMeans_sklearn\n",
    "h, w, c = img.shape\n",
    "data = img.reshape((-1, c))\n",
    "kmean = KMeans_sklearn(X=data, k=3)"
   ]
  },
  {
   "cell_type": "code",
   "execution_count": 9,
   "metadata": {},
   "outputs": [
    {
     "data": {
      "text/plain": [
       "Text(0.5, 1.0, 'Clustered image')"
      ]
     },
     "execution_count": 9,
     "metadata": {},
     "output_type": "execute_result"
    },
    {
     "data": {
      "image/png": "[encoded data removed]",
      "text/plain": [
       "<Figure size 1080x360 with 2 Axes>"
      ]
     },
     "metadata": {
      "needs_background": "light"
     },
     "output_type": "display_data"
    }
   ],
   "source": [
    "labels = kmean[\"labels\"]\n",
    "centers = kmean[\"centers\"].astype(int)\n",
    "img_new = centers[labels].reshape((h, w, c))\n",
    "\n",
    "fig, axes = plt.subplots(nrows=1, ncols=2, figsize=(15, 5))\n",
    "axes[0].imshow(img)\n",
    "axes[0].set_title(\"Original image\")\n",
    "axes[1].imshow(img_new)\n",
    "axes[1].set_title(\"Clustered image\")"
   ]
  },
  {
   "cell_type": "code",
   "execution_count": 10,
   "metadata": {},
   "outputs": [
    {
     "data": {
      "application/vnd.plotly.v1+json": {
       "config": {
        "plotlyServerURL": "https://plot.ly"
       },
       "data": [
        {
         "marker": {
          "opacity": 0.7,
          "size": 5,
          "symbol": "circle"
         },
         "mode": "markers",
         "name": "cluster_1",
         "type": "scatter3d",
         "x": [
          134,
          150,
          130,
          157,
          129,
          143,
          137,
          141,
          134,
          137,
          130,
          132,
          147,
          138,
          146,
          140,
          126,
          133,
          144,
          129,
          130,
          148,
          112,
          136,
          130,
          143,
          144,
          146,
          150,
          138,
          140,
          154,
          141,
          141,
          131,
          141,
          151,
          157,
          156,
          142,
          157,
          148,
          145,
          146,
          157,
          151,
          133,
          126,
          118,
          151,
          125,
          125,
          133,
          141,
          129,
          130,
          150,
          115,
          164,
          146,
          145,
          150,
          180,
          135,
          150,
          120,
          151,
          148,
          134,
          182,
          133,
          128,
          143,
          143,
          175,
          162,
          153,
          145,
          154,
          140,
          119,
          124,
          143,
          117,
          119,
          162,
          141,
          123,
          121,
          125,
          162,
          159,
          152,
          152,
          141,
          129,
          145,
          134,
          127
         ],
         "y": [
          135,
          156,
          133,
          158,
          137,
          148,
          138,
          141,
          140,
          146,
          135,
          139,
          153,
          137,
          147,
          151,
          125,
          140,
          144,
          130,
          130,
          152,
          134,
          135,
          128,
          149,
          151,
          148,
          155,
          147,
          141,
          161,
          146,
          146,
          133,
          152,
          148,
          165,
          146,
          144,
          161,
          150,
          143,
          148,
          157,
          152,
          139,
          131,
          127,
          154,
          125,
          129,
          128,
          144,
          129,
          151,
          149,
          124,
          170,
          144,
          151,
          151,
          179,
          136,
          152,
          125,
          151,
          148,
          136,
          186,
          141,
          126,
          147,
          140,
          174,
          162,
          154,
          150,
          152,
          142,
          120,
          127,
          138,
          137,
          133,
          163,
          145,
          128,
          129,
          125,
          165,
          159,
          155,
          153,
          142,
          131,
          147,
          138,
          132
         ],
         "z": [
          75,
          96,
          76,
          98,
          80,
          82,
          80,
          79,
          76,
          81,
          77,
          69,
          83,
          83,
          90,
          93,
          68,
          72,
          80,
          72,
          70,
          91,
          88,
          79,
          77,
          89,
          81,
          82,
          88,
          84,
          81,
          84,
          79,
          79,
          70,
          84,
          77,
          90,
          84,
          79,
          85,
          77,
          86,
          99,
          93,
          82,
          75,
          67,
          72,
          107,
          73,
          70,
          73,
          73,
          67,
          86,
          93,
          79,
          98,
          87,
          77,
          91,
          114,
          78,
          79,
          69,
          97,
          84,
          71,
          109,
          90,
          69,
          88,
          73,
          109,
          92,
          96,
          84,
          93,
          79,
          86,
          80,
          80,
          76,
          80,
          95,
          86,
          70,
          70,
          63,
          96,
          95,
          84,
          93,
          74,
          68,
          82,
          79,
          68
         ]
        },
        {
         "marker": {
          "opacity": 0.7,
          "size": 5,
          "symbol": "circle"
         },
         "mode": "markers",
         "name": "cluster_2",
         "type": "scatter3d",
         "x": [
          52,
          58,
          24,
          58,
          32,
          12,
          37,
          31,
          35,
          45,
          28,
          15,
          25,
          24,
          19,
          47,
          33,
          13,
          40,
          9,
          30,
          26,
          27,
          31,
          18,
          22,
          21,
          19,
          17,
          33,
          32,
          32,
          20,
          8,
          26,
          43,
          22,
          39,
          36,
          41,
          39,
          62,
          41,
          40,
          29,
          39,
          51,
          36,
          32,
          30,
          16,
          20,
          36,
          27,
          65,
          26,
          14,
          41,
          9,
          24,
          29,
          36,
          29,
          17,
          38,
          34,
          33,
          42,
          36,
          18,
          36,
          28,
          30,
          29,
          28,
          36,
          40,
          26,
          28,
          38,
          27,
          22,
          20,
          43,
          45,
          21,
          30,
          10,
          38,
          29,
          26,
          23,
          21,
          38,
          27,
          24,
          40,
          21,
          26,
          45,
          47,
          26,
          18,
          49,
          31,
          36,
          30,
          32,
          19,
          26,
          55,
          19,
          17,
          16,
          25,
          25,
          21,
          24,
          29,
          28,
          18,
          14,
          23,
          30,
          31,
          25,
          20,
          26,
          29,
          20,
          34,
          16,
          22,
          29,
          26,
          24,
          22,
          21,
          16,
          34,
          31,
          30,
          26,
          31,
          23,
          33
         ],
         "y": [
          57,
          55,
          26,
          81,
          51,
          30,
          49,
          37,
          37,
          68,
          40,
          23,
          44,
          43,
          29,
          70,
          51,
          38,
          61,
          26,
          61,
          48,
          40,
          53,
          35,
          48,
          45,
          36,
          34,
          59,
          53,
          58,
          37,
          30,
          47,
          78,
          51,
          42,
          71,
          64,
          48,
          82,
          66,
          50,
          55,
          55,
          67,
          59,
          56,
          39,
          23,
          28,
          32,
          30,
          67,
          56,
          27,
          41,
          27,
          44,
          37,
          63,
          53,
          30,
          77,
          54,
          53,
          63,
          55,
          44,
          66,
          50,
          51,
          48,
          51,
          65,
          60,
          43,
          42,
          67,
          47,
          45,
          38,
          82,
          74,
          50,
          54,
          20,
          63,
          55,
          40,
          48,
          38,
          53,
          52,
          40,
          69,
          35,
          46,
          70,
          66,
          31,
          19,
          58,
          40,
          47,
          48,
          44,
          33,
          45,
          70,
          37,
          35,
          33,
          44,
          42,
          47,
          48,
          52,
          58,
          33,
          25,
          36,
          47,
          50,
          43,
          35,
          50,
          47,
          42,
          60,
          30,
          34,
          53,
          50,
          41,
          45,
          39,
          31,
          53,
          50,
          48,
          51,
          61,
          41,
          56
         ],
         "z": [
          37,
          40,
          13,
          39,
          19,
          4,
          29,
          33,
          26,
          42,
          28,
          12,
          25,
          23,
          21,
          26,
          35,
          8,
          42,
          7,
          30,
          25,
          23,
          30,
          16,
          23,
          23,
          20,
          16,
          34,
          34,
          33,
          19,
          7,
          28,
          38,
          21,
          11,
          41,
          38,
          31,
          29,
          37,
          25,
          30,
          26,
          30,
          33,
          22,
          36,
          15,
          15,
          20,
          21,
          17,
          30,
          10,
          29,
          15,
          17,
          24,
          28,
          31,
          20,
          33,
          29,
          28,
          24,
          35,
          15,
          30,
          29,
          32,
          28,
          31,
          34,
          32,
          27,
          25,
          36,
          20,
          25,
          12,
          51,
          43,
          20,
          28,
          11,
          23,
          26,
          27,
          26,
          20,
          34,
          30,
          14,
          38,
          10,
          19,
          30,
          38,
          9,
          14,
          29,
          21,
          33,
          24,
          30,
          18,
          25,
          37,
          21,
          21,
          15,
          25,
          26,
          20,
          22,
          32,
          32,
          14,
          11,
          19,
          31,
          31,
          27,
          16,
          24,
          35,
          19,
          31,
          17,
          24,
          29,
          28,
          23,
          25,
          23,
          12,
          31,
          31,
          26,
          19,
          27,
          15,
          30
         ]
        },
        {
         "marker": {
          "opacity": 0.7,
          "size": 5,
          "symbol": "circle"
         },
         "mode": "markers",
         "name": "cluster_3",
         "type": "scatter3d",
         "x": [
          78,
          117,
          103,
          80,
          74,
          96,
          115,
          110,
          111,
          93,
          107,
          110,
          61,
          66,
          76,
          112,
          116,
          102,
          94,
          61,
          73,
          89,
          102,
          99,
          117,
          71,
          85,
          106,
          117,
          120,
          103,
          76,
          119,
          78,
          115,
          115,
          75,
          91,
          99,
          102,
          66,
          70,
          85,
          93,
          104,
          110
         ],
         "y": [
          80,
          121,
          108,
          84,
          83,
          104,
          116,
          109,
          105,
          93,
          109,
          104,
          76,
          82,
          99,
          128,
          116,
          103,
          96,
          76,
          102,
          96,
          101,
          99,
          117,
          82,
          95,
          125,
          119,
          117,
          105,
          80,
          119,
          80,
          122,
          117,
          80,
          102,
          102,
          100,
          93,
          88,
          86,
          111,
          107,
          109
         ],
         "z": [
          31,
          62,
          52,
          57,
          54,
          47,
          74,
          65,
          55,
          43,
          62,
          52,
          53,
          43,
          55,
          66,
          56,
          71,
          56,
          55,
          44,
          55,
          53,
          73,
          57,
          50,
          45,
          70,
          53,
          72,
          58,
          43,
          69,
          58,
          78,
          78,
          57,
          62,
          49,
          62,
          52,
          46,
          46,
          63,
          62,
          53
         ]
        }
       ],
       "layout": {
        "margin": {
         "b": 0,
         "l": 100,
         "r": 200,
         "t": 0
        },
        "scene": {
         "xaxis": {
          "title": {
           "text": "red"
          }
         },
         "yaxis": {
          "title": {
           "text": "green"
          }
         },
         "zaxis": {
          "title": {
           "text": "blue"
          }
         }
        },
        "template": {
         "data": {
          "bar": [
           {
            "error_x": {
             "color": "#2a3f5f"
            },
            "error_y": {
             "color": "#2a3f5f"
            },
            "marker": {
             "line": {
              "color": "#E5ECF6",
              "width": 0.5
             },
             "pattern": {
              "fillmode": "overlay",
              "size": 10,
              "solidity": 0.2
             }
            },
            "type": "bar"
           }
          ],
          "barpolar": [
           {
            "marker": {
             "line": {
              "color": "#E5ECF6",
              "width": 0.5
             },
             "pattern": {
              "fillmode": "overlay",
              "size": 10,
              "solidity": 0.2
             }
            },
            "type": "barpolar"
           }
          ],
          "carpet": [
           {
            "aaxis": {
             "endlinecolor": "#2a3f5f",
             "gridcolor": "white",
             "linecolor": "white",
             "minorgridcolor": "white",
             "startlinecolor": "#2a3f5f"
            },
            "baxis": {
             "endlinecolor": "#2a3f5f",
             "gridcolor": "white",
             "linecolor": "white",
             "minorgridcolor": "white",
             "startlinecolor": "#2a3f5f"
            },
            "type": "carpet"
           }
          ],
          "choropleth": [
           {
            "colorbar": {
             "outlinewidth": 0,
             "ticks": ""
            },
            "type": "choropleth"
           }
          ],
          "contour": [
           {
            "colorbar": {
             "outlinewidth": 0,
             "ticks": ""
            },
            "colorscale": [
             [
              0,
              "#0d0887"
             ],
             [
              0.1111111111111111,
              "#46039f"
             ],
             [
              0.2222222222222222,
              "#7201a8"
             ],
             [
              0.3333333333333333,
              "#9c179e"
             ],
             [
              0.4444444444444444,
              "#bd3786"
             ],
             [
              0.5555555555555556,
              "#d8576b"
             ],
             [
              0.6666666666666666,
              "#ed7953"
             ],
             [
              0.7777777777777778,
              "#fb9f3a"
             ],
             [
              0.8888888888888888,
              "#fdca26"
             ],
             [
              1,
              "#f0f921"
             ]
            ],
            "type": "contour"
           }
          ],
          "contourcarpet": [
           {
            "colorbar": {
             "outlinewidth": 0,
             "ticks": ""
            },
            "type": "contourcarpet"
           }
          ],
          "heatmap": [
           {
            "colorbar": {
             "outlinewidth": 0,
             "ticks": ""
            },
            "colorscale": [
             [
              0,
              "#0d0887"
             ],
             [
              0.1111111111111111,
              "#46039f"
             ],
             [
              0.2222222222222222,
              "#7201a8"
             ],
             [
              0.3333333333333333,
              "#9c179e"
             ],
             [
              0.4444444444444444,
              "#bd3786"
             ],
             [
              0.5555555555555556,
              "#d8576b"
             ],
             [
              0.6666666666666666,
              "#ed7953"
             ],
             [
              0.7777777777777778,
              "#fb9f3a"
             ],
             [
              0.8888888888888888,
              "#fdca26"
             ],
             [
              1,
              "#f0f921"
             ]
            ],
            "type": "heatmap"
           }
          ],
          "heatmapgl": [
           {
            "colorbar": {
             "outlinewidth": 0,
             "ticks": ""
            },
            "colorscale": [
             [
              0,
              "#0d0887"
             ],
             [
              0.1111111111111111,
              "#46039f"
             ],
             [
              0.2222222222222222,
              "#7201a8"
             ],
             [
              0.3333333333333333,
              "#9c179e"
             ],
             [
              0.4444444444444444,
              "#bd3786"
             ],
             [
              0.5555555555555556,
              "#d8576b"
             ],
             [
              0.6666666666666666,
              "#ed7953"
             ],
             [
              0.7777777777777778,
              "#fb9f3a"
             ],
             [
              0.8888888888888888,
              "#fdca26"
             ],
             [
              1,
              "#f0f921"
             ]
            ],
            "type": "heatmapgl"
           }
          ],
          "histogram": [
           {
            "marker": {
             "pattern": {
              "fillmode": "overlay",
              "size": 10,
              "solidity": 0.2
             }
            },
            "type": "histogram"
           }
          ],
          "histogram2d": [
           {
            "colorbar": {
             "outlinewidth": 0,
             "ticks": ""
            },
            "colorscale": [
             [
              0,
              "#0d0887"
             ],
             [
              0.1111111111111111,
              "#46039f"
             ],
             [
              0.2222222222222222,
              "#7201a8"
             ],
             [
              0.3333333333333333,
              "#9c179e"
             ],
             [
              0.4444444444444444,
              "#bd3786"
             ],
             [
              0.5555555555555556,
              "#d8576b"
             ],
             [
              0.6666666666666666,
              "#ed7953"
             ],
             [
              0.7777777777777778,
              "#fb9f3a"
             ],
             [
              0.8888888888888888,
              "#fdca26"
             ],
             [
              1,
              "#f0f921"
             ]
            ],
            "type": "histogram2d"
           }
          ],
          "histogram2dcontour": [
           {
            "colorbar": {
             "outlinewidth": 0,
             "ticks": ""
            },
            "colorscale": [
             [
              0,
              "#0d0887"
             ],
             [
              0.1111111111111111,
              "#46039f"
             ],
             [
              0.2222222222222222,
              "#7201a8"
             ],
             [
              0.3333333333333333,
              "#9c179e"
             ],
             [
              0.4444444444444444,
              "#bd3786"
             ],
             [
              0.5555555555555556,
              "#d8576b"
             ],
             [
              0.6666666666666666,
              "#ed7953"
             ],
             [
              0.7777777777777778,
              "#fb9f3a"
             ],
             [
              0.8888888888888888,
              "#fdca26"
             ],
             [
              1,
              "#f0f921"
             ]
            ],
            "type": "histogram2dcontour"
           }
          ],
          "mesh3d": [
           {
            "colorbar": {
             "outlinewidth": 0,
             "ticks": ""
            },
            "type": "mesh3d"
           }
          ],
          "parcoords": [
           {
            "line": {
             "colorbar": {
              "outlinewidth": 0,
              "ticks": ""
             }
            },
            "type": "parcoords"
           }
          ],
          "pie": [
           {
            "automargin": true,
            "type": "pie"
           }
          ],
          "scatter": [
           {
            "fillpattern": {
             "fillmode": "overlay",
             "size": 10,
             "solidity": 0.2
            },
            "type": "scatter"
           }
          ],
          "scatter3d": [
           {
            "line": {
             "colorbar": {
              "outlinewidth": 0,
              "ticks": ""
             }
            },
            "marker": {
             "colorbar": {
              "outlinewidth": 0,
              "ticks": ""
             }
            },
            "type": "scatter3d"
           }
          ],
          "scattercarpet": [
           {
            "marker": {
             "colorbar": {
              "outlinewidth": 0,
              "ticks": ""
             }
            },
            "type": "scattercarpet"
           }
          ],
          "scattergeo": [
           {
            "marker": {
             "colorbar": {
              "outlinewidth": 0,
              "ticks": ""
             }
            },
            "type": "scattergeo"
           }
          ],
          "scattergl": [
           {
            "marker": {
             "colorbar": {
              "outlinewidth": 0,
              "ticks": ""
             }
            },
            "type": "scattergl"
           }
          ],
          "scattermapbox": [
           {
            "marker": {
             "colorbar": {
              "outlinewidth": 0,
              "ticks": ""
             }
            },
            "type": "scattermapbox"
           }
          ],
          "scatterpolar": [
           {
            "marker": {
             "colorbar": {
              "outlinewidth": 0,
              "ticks": ""
             }
            },
            "type": "scatterpolar"
           }
          ],
          "scatterpolargl": [
           {
            "marker": {
             "colorbar": {
              "outlinewidth": 0,
              "ticks": ""
             }
            },
            "type": "scatterpolargl"
           }
          ],
          "scatterternary": [
           {
            "marker": {
             "colorbar": {
              "outlinewidth": 0,
              "ticks": ""
             }
            },
            "type": "scatterternary"
           }
          ],
          "surface": [
           {
            "colorbar": {
             "outlinewidth": 0,
             "ticks": ""
            },
            "colorscale": [
             [
              0,
              "#0d0887"
             ],
             [
              0.1111111111111111,
              "#46039f"
             ],
             [
              0.2222222222222222,
              "#7201a8"
             ],
             [
              0.3333333333333333,
              "#9c179e"
             ],
             [
              0.4444444444444444,
              "#bd3786"
             ],
             [
              0.5555555555555556,
              "#d8576b"
             ],
             [
              0.6666666666666666,
              "#ed7953"
             ],
             [
              0.7777777777777778,
              "#fb9f3a"
             ],
             [
              0.8888888888888888,
              "#fdca26"
             ],
             [
              1,
              "#f0f921"
             ]
            ],
            "type": "surface"
           }
          ],
          "table": [
           {
            "cells": {
             "fill": {
              "color": "#EBF0F8"
             },
             "line": {
              "color": "white"
             }
            },
            "header": {
             "fill": {
              "color": "#C8D4E3"
             },
             "line": {
              "color": "white"
             }
            },
            "type": "table"
           }
          ]
         },
         "layout": {
          "annotationdefaults": {
           "arrowcolor": "#2a3f5f",
           "arrowhead": 0,
           "arrowwidth": 1
          },
          "autotypenumbers": "strict",
          "coloraxis": {
           "colorbar": {
            "outlinewidth": 0,
            "ticks": ""
           }
          },
          "colorscale": {
           "diverging": [
            [
             0,
             "#8e0152"
            ],
            [
             0.1,
             "#c51b7d"
            ],
            [
             0.2,
             "#de77ae"
            ],
            [
             0.3,
             "#f1b6da"
            ],
            [
             0.4,
             "#fde0ef"
            ],
            [
             0.5,
             "#f7f7f7"
            ],
            [
             0.6,
             "#e6f5d0"
            ],
            [
             0.7,
             "#b8e186"
            ],
            [
             0.8,
             "#7fbc41"
            ],
            [
             0.9,
             "#4d9221"
            ],
            [
             1,
             "#276419"
            ]
           ],
           "sequential": [
            [
             0,
             "#0d0887"
            ],
            [
             0.1111111111111111,
             "#46039f"
            ],
            [
             0.2222222222222222,
             "#7201a8"
            ],
            [
             0.3333333333333333,
             "#9c179e"
            ],
            [
             0.4444444444444444,
             "#bd3786"
            ],
            [
             0.5555555555555556,
             "#d8576b"
            ],
            [
             0.6666666666666666,
             "#ed7953"
            ],
            [
             0.7777777777777778,
             "#fb9f3a"
            ],
            [
             0.8888888888888888,
             "#fdca26"
            ],
            [
             1,
             "#f0f921"
            ]
           ],
           "sequentialminus": [
            [
             0,
             "#0d0887"
            ],
            [
             0.1111111111111111,
             "#46039f"
            ],
            [
             0.2222222222222222,
             "#7201a8"
            ],
            [
             0.3333333333333333,
             "#9c179e"
            ],
            [
             0.4444444444444444,
             "#bd3786"
            ],
            [
             0.5555555555555556,
             "#d8576b"
            ],
            [
             0.6666666666666666,
             "#ed7953"
            ],
            [
             0.7777777777777778,
             "#fb9f3a"
            ],
            [
             0.8888888888888888,
             "#fdca26"
            ],
            [
             1,
             "#f0f921"
            ]
           ]
          },
          "colorway": [
           "#636efa",
           "#EF553B",
           "#00cc96",
           "#ab63fa",
           "#FFA15A",
           "#19d3f3",
           "#FF6692",
           "#B6E880",
           "#FF97FF",
           "#FECB52"
          ],
          "font": {
           "color": "#2a3f5f"
          },
          "geo": {
           "bgcolor": "white",
           "lakecolor": "white",
           "landcolor": "#E5ECF6",
           "showlakes": true,
           "showland": true,
           "subunitcolor": "white"
          },
          "hoverlabel": {
           "align": "left"
          },
          "hovermode": "closest",
          "mapbox": {
           "style": "light"
          },
          "paper_bgcolor": "white",
          "plot_bgcolor": "#E5ECF6",
          "polar": {
           "angularaxis": {
            "gridcolor": "white",
            "linecolor": "white",
            "ticks": ""
           },
           "bgcolor": "#E5ECF6",
           "radialaxis": {
            "gridcolor": "white",
            "linecolor": "white",
            "ticks": ""
           }
          },
          "scene": {
           "xaxis": {
            "backgroundcolor": "#E5ECF6",
            "gridcolor": "white",
            "gridwidth": 2,
            "linecolor": "white",
            "showbackground": true,
            "ticks": "",
            "zerolinecolor": "white"
           },
           "yaxis": {
            "backgroundcolor": "#E5ECF6",
            "gridcolor": "white",
            "gridwidth": 2,
            "linecolor": "white",
            "showbackground": true,
            "ticks": "",
            "zerolinecolor": "white"
           },
           "zaxis": {
            "backgroundcolor": "#E5ECF6",
            "gridcolor": "white",
            "gridwidth": 2,
            "linecolor": "white",
            "showbackground": true,
            "ticks": "",
            "zerolinecolor": "white"
           }
          },
          "shapedefaults": {
           "line": {
            "color": "#2a3f5f"
           }
          },
          "ternary": {
           "aaxis": {
            "gridcolor": "white",
            "linecolor": "white",
            "ticks": ""
           },
           "baxis": {
            "gridcolor": "white",
            "linecolor": "white",
            "ticks": ""
           },
           "bgcolor": "#E5ECF6",
           "caxis": {
            "gridcolor": "white",
            "linecolor": "white",
            "ticks": ""
           }
          },
          "title": {
           "x": 0.05
          },
          "xaxis": {
           "automargin": true,
           "gridcolor": "white",
           "linecolor": "white",
           "ticks": "",
           "title": {
            "standoff": 15
           },
           "zerolinecolor": "white",
           "zerolinewidth": 2
          },
          "yaxis": {
           "automargin": true,
           "gridcolor": "white",
           "linecolor": "white",
           "ticks": "",
           "title": {
            "standoff": 15
           },
           "zerolinecolor": "white",
           "zerolinewidth": 2
          }
         }
        }
       }
      }
     },
     "metadata": {},
     "output_type": "display_data"
    }
   ],
   "source": [
    "colors     = [\"rgb(%d, %d, %d)\" % tuple(color.tolist()) for color in centers]\n",
    "dfs        = df.iloc[::100]\n",
    "labels_sub = labels[::100]\n",
    "ls_points  = []\n",
    "for i in range(3):\n",
    "    ls_points += [go.Scatter3d(x=dfs.loc[labels_sub==i, \"red\"],\n",
    "                               y=dfs.loc[labels_sub==i, \"green\"],\n",
    "                               z=dfs.loc[labels_sub==i, \"blue\"],\n",
    "                               mode='markers', name='cluster_%d' % (i + 1),\n",
    "                               marker=dict(size=5, symbol='circle', opacity=0.7))]\n",
    "# layout\n",
    "layout = go.Layout(scene=dict(xaxis=dict(title=\"red\"),\n",
    "                              yaxis=dict(title=\"green\"),\n",
    "                              zaxis=dict(title=\"blue\")),\n",
    "                   margin=dict(l=100, r=200, b=0, t=0))\n",
    "# show\n",
    "fig = go.Figure(data=ls_points, layout=layout)\n",
    "fig.show()"
   ]
  }
 ],
 "metadata": {
  "kernelspec": {
   "display_name": "Julia 1.7.1",
   "language": "julia",
   "name": "julia-1.7"
  },
  "language_info": {
   "file_extension": ".jl",
   "mimetype": "application/julia",
   "name": "julia",
   "version": "1.7.1"
  },
  "orig_nbformat": 4,
  "vscode": {
   "interpreter": {
    "hash": "171765cd2d4b3fb19a4d5447669498b810cbcefc9297a20b45da55a7914d8111"
   }
  }
 },
 "nbformat": 4,
 "nbformat_minor": 2
}
