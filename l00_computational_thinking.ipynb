{
 "cells": [
  {
   "cell_type": "code",
   "execution_count": 8,
   "metadata": {},
   "outputs": [],
   "source": [
    "# from folder_I.module_A import class_1, function_2 \n",
    "from modules.LS import make_X as xyz"
   ]
  },
  {
   "cell_type": "code",
   "execution_count": 11,
   "metadata": {},
   "outputs": [
    {
     "ename": "TypeError",
     "evalue": "make_X() missing 2 required positional arguments: 'vec_src' and 'vec_dst'",
     "output_type": "error",
     "traceback": [
      "\u001b[0;31m---------------------------------------------------------------------------\u001b[0m",
      "\u001b[0;31mTypeError\u001b[0m                                 Traceback (most recent call last)",
      "\u001b[1;32m/Users/niche/Library/CloudStorage/OneDrive-VirginiaTech/github/applied_data_science/l00_computational_thinking.ipynb Cell 2\u001b[0m in \u001b[0;36m<cell line: 1>\u001b[0;34m()\u001b[0m\n\u001b[0;32m----> <a href='vscode-notebook-cell:/Users/niche/Library/CloudStorage/OneDrive-VirginiaTech/github/applied_data_science/l00_computational_thinking.ipynb#ch0000001?line=0'>1</a>\u001b[0m xyz()\n",
      "\u001b[0;31mTypeError\u001b[0m: make_X() missing 2 required positional arguments: 'vec_src' and 'vec_dst'"
     ]
    }
   ],
   "source": []
  }
 ],
 "metadata": {
  "kernelspec": {
   "display_name": "Python 3.9.10 ('aikit')",
   "language": "python",
   "name": "python3"
  },
  "language_info": {
   "codemirror_mode": {
    "name": "ipython",
    "version": 3
   },
   "file_extension": ".py",
   "mimetype": "text/x-python",
   "name": "python",
   "nbconvert_exporter": "python",
   "pygments_lexer": "ipython3",
   "version": "3.9.10"
  },
  "orig_nbformat": 4,
  "vscode": {
   "interpreter": {
    "hash": "171765cd2d4b3fb19a4d5447669498b810cbcefc9297a20b45da55a7914d8111"
   }
  }
 },
 "nbformat": 4,
 "nbformat_minor": 2
}
