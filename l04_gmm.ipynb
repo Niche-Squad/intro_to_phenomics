{
 "cells": [
  {
   "cell_type": "markdown",
   "metadata": {},
   "source": [
    "# Gaussian Mixture Model (GMM) and Expectation Maximization (EM) Algorithm\n",
    "\n",
    "**Author**: James Chen, School of Animal Sciences, Virginia Tech\n",
    "\n",
    "**Date**: Aug 3, 2022\n",
    "\n",
    "Gaussian mixture model (GMM) is another approach to cluster a given dataset. Unlike K-means clustering algorithm, which has no assumption on the cluster distribution, GMM assumes each cluster following a multivariate normal (MVN) distribution. This approach is useful when the observed data shows different variation across the studied dimensions (variates). Ones can implement GMM by Expectation Maximization (EM) algorithm that leverages Bayesian Theorm to maximize the posterior probability. The posterior probability in GMM is the chance the observed data is sampled from the estiamted MVN distributions.\n",
    "\n",
    "In this section, we will walk through each step of EM algorithm, and we will then compare the results generated from K-Means and GMM clustering approaches."
   ]
  },
  {
   "cell_type": "markdown",
   "metadata": {},
   "source": [
    "## **Set up the environment**\n",
    "### Clone the repository (demo data and scripts)"
   ]
  },
  {
   "cell_type": "code",
   "execution_count": null,
   "metadata": {},
   "outputs": [],
   "source": [
    "# use a exclamation mark, \"!\", to call Shell command in Python\n",
    "!git clone https://github.com/vt-ads/intro_to_phenomics"
   ]
  },
  {
   "cell_type": "markdown",
   "metadata": {},
   "source": [
    "### Change the working directory"
   ]
  },
  {
   "cell_type": "code",
   "execution_count": null,
   "metadata": {},
   "outputs": [],
   "source": [
    "import os\n",
    "# change WD\n",
    "os.chdir(\"/content/intro_to_phenomics\")\n",
    "# print WD\n",
    "print(\"Current folder: \", os.getcwd())"
   ]
  },
  {
   "cell_type": "markdown",
   "metadata": {},
   "source": [
    "## **Data**\n",
    "Similar to the previous note, we will simulate a dataset to help us understand the algorihtm.\n",
    "We assume that there are `100` data points sampled from `2` different multivariate normal distributions."
   ]
  },
  {
   "cell_type": "code",
   "execution_count": 23,
   "metadata": {},
   "outputs": [
    {
     "name": "stdout",
     "output_type": "stream",
     "text": [
      "Shape:  (100, 2)\n",
      "The first 10 data points: \n",
      " [[40.07239537 45.6162229 ]\n",
      " [47.36525032 46.96804659]\n",
      " [50.96514022 26.62505176]\n",
      " [44.70544258 42.84493516]\n",
      " [28.88753861 47.5965643 ]\n",
      " [47.92173874 45.99756517]\n",
      " [38.94567599 43.20109208]\n",
      " [37.52149589 44.96302069]\n",
      " [54.05514095 32.39361961]\n",
      " [38.96804294 34.87011673]]\n"
     ]
    },
    {
     "data": {
      "text/plain": [
       "<matplotlib.legend.Legend at 0x11f04c730>"
      ]
     },
     "execution_count": 23,
     "metadata": {},
     "output_type": "execute_result"
    },
    {
     "data": {
      "image/png": "[encoded data removed]",
      "text/plain": [
       "<Figure size 576x576 with 1 Axes>"
      ]
     },
     "metadata": {
      "needs_background": "light"
     },
     "output_type": "display_data"
    }
   ],
   "source": [
    "# imports\n",
    "import numpy as np\n",
    "import matplotlib.pyplot as plt\n",
    "\n",
    "# set random seed\n",
    "np.random.seed(24061)\n",
    "\n",
    "# number of clusters\n",
    "k = 2\n",
    "# number of data points in each cluster\n",
    "n = 50\n",
    "# total number of data points\n",
    "N = n * k\n",
    "# cluster proerties: means and standard deviation\n",
    "means = [[40, 40], [60, 70]]\n",
    "stds  = [[[80, 0],\n",
    "          [0, 70]],\n",
    "         [[60, 10],\n",
    "          [10, 90]]]\n",
    "\n",
    "# use np.random.multivariate_normal() to sample the datasets\n",
    "data = []\n",
    "for mean, std in zip(means, stds):\n",
    "    data += [np.random.multivariate_normal(mean=mean, cov=std, size=n)]\n",
    "data = np.concatenate(data)\n",
    "\n",
    "# validattion ------------------------------\n",
    "print(\"Shape: \", data.shape)\n",
    "print(\"The first 10 data points: \\n\", data[:10])\n",
    "# plotting\n",
    "param_pts = dict(s=80, alpha=.3)\n",
    "plt.figure(figsize=(8, 8))\n",
    "plt.scatter(data[:n, 0], data[:n, 1], c=\"red\",  label=\"cluster_1\", **param_pts)\n",
    "plt.scatter(data[n:, 0], data[n:, 1], c=\"blue\", label=\"cluster_2\", **param_pts)\n",
    "plt.title(\"Ground Truth\")\n",
    "plt.legend()"
   ]
  },
  {
   "cell_type": "markdown",
   "metadata": {},
   "source": [
    "## **Bayesian Theorm**\n",
    "First, let's recap what Bayesian theorm is about:\n",
    "$$\n",
    "    P(A \\mid B) = \\frac{P(B \\mid A)P(A)}{P(B)}\n",
    "    \\tag{1}\n",
    "$$\n",
    "\n",
    "The theorm tells us, with the prior $P(A)$ and the conditional probability $P(B \\mid A)$, we can estimate the posterior probability $P(A \\mid B)$."
   ]
  },
  {
   "cell_type": "markdown",
   "metadata": {},
   "source": [
    "## **Prior**\n",
    "So what is the prior? In our case, the prior is how many data points are sampled from the distribution $c_j$.\n",
    "It can be expressed as:\n",
    "\n",
    "$$\n",
    "    \\begin{split}\n",
    "        P(A) &= P(c_{j}) = P(\\mu_{j}, \\Sigma_{j})  =\\pi_{j}\\\\\n",
    "    \\end{split}\n",
    "    \\tag{2}\n",
    "$$\n",
    "\n",
    "where $\\mu_j$ and $\\Sigma_j$ are the mean and (co)variance of the distribution $c_j$, respectively.\n"
   ]
  },
  {
   "cell_type": "code",
   "execution_count": 129,
   "metadata": {},
   "outputs": [
    {
     "name": "stdout",
     "output_type": "stream",
     "text": [
      "labels:\n",
      " [1. 0. 1. 0. 1. 1. 1. 0. 1. 0. 0. 0. 0. 0. 0. 0. 1. 0. 0. 0. 0. 0. 0. 1.\n",
      " 1. 0. 1. 1. 0. 0. 1. 0. 0. 0. 1. 0. 1. 0. 0. 0. 0. 1. 1. 0. 0. 0. 1. 1.\n",
      " 0. 0. 1. 1. 0. 0. 0. 0. 1. 0. 0. 1. 0. 1. 1. 0. 1. 0. 0. 0. 1. 1. 0. 0.\n",
      " 1. 0. 1. 0. 0. 1. 0. 1. 1. 1. 0. 0. 0. 0. 1. 1. 1. 0. 0. 1. 0. 1. 1. 0.\n",
      " 0. 1. 1. 0.]\n",
      "\n",
      "\n",
      "pi:\n",
      " [0.59, 0.41]\n",
      "\n",
      "\n",
      "mu_1:\n",
      " [49.38613178 53.65024646]\n",
      "sigma_1:\n",
      " [[171.82795346 136.61831985]\n",
      " [136.61831985 252.71944187]]\n",
      "\n",
      "\n",
      "mu_2:\n",
      " [51.63019212 55.33400988]\n",
      "sigma_2:\n",
      " [[169.68923708 150.70830501]\n",
      " [150.70830501 359.56913236]]\n",
      "\n",
      "\n"
     ]
    }
   ],
   "source": [
    "# parameters\n",
    "N = 100\n",
    "k = 2\n",
    "\n",
    "# randomly assign clusters (labels)\n",
    "# use \"quotients\" as the initial labels\n",
    "labels = np.random.random(N) // (1 / k)\n",
    "pi     = [np.mean(labels == i) for i in range(k)]\n",
    "print(\"labels:\\n\", labels)\n",
    "print(\"\\n\")\n",
    "print(\"pi:\\n\", pi)\n",
    "print(\"\\n\")\n",
    "\n",
    "# subset data by each cluster\n",
    "ls_subdata = [data[labels == i]        for i       in range(k)]\n",
    "ls_mu      = [np.mean(subdata, axis=0) for subdata in ls_subdata]\n",
    "ls_sigma   = [np.cov(subdata.T)        for subdata in ls_subdata]\n",
    "for i in range(2):\n",
    "    print(\"mu_%d:\\n\"    % (i + 1), ls_mu[i])\n",
    "    print(\"sigma_%d:\\n\" % (i + 1), ls_sigma[i])\n",
    "    print(\"\\n\")"
   ]
  },
  {
   "cell_type": "markdown",
   "metadata": {},
   "source": [
    "## **Probability density function**\n",
    "Then, we can define $P(B)$ and $P(B \\mid A)$ in the EM algorithm.\n",
    "$P(B)$ describes how likely the sample $x_i$ is observed.\n",
    "To calculate $P(B)$, we have to consider all the possible distributions:\n",
    "\n",
    "$$\n",
    "    \\begin{split}\n",
    "        P(B) &= P(x_{i}) = {\\sum \\limits_{j=1}^{k} P(x_{i} \\mid c_{j}) P(c_{j})} \\\\\n",
    "    \\end{split}\n",
    "    \\tag{3}\n",
    "$$\n",
    "\n",
    "where $k$ is the total nubmer of possible distributions (i.e., clusters).\n",
    "\n",
    "<center><img src=\"res/l04/pdf.png\" width=\"600\"/></center>\n"
   ]
  },
  {
   "cell_type": "markdown",
   "metadata": {},
   "source": [
    "Finally, we need to calculate $P(B \\mid A)$ to know $P(B)$.\n",
    "$P(B \\mid A)$ describes that how typical the data $x_i$ is sampled from the distribution $c_j$. This can be calculated by the probability density function (PDF) of a multivariate distribution:\n",
    "\n",
    "$$\n",
    "    \\begin{split}\n",
    "        P(B \\mid A) &= P(x_{i} \\mid c_{j}) \\\\\n",
    "                    &= P(x_{i} \\mid \\mu_{j}, \\Sigma_{j}) \\\\\n",
    "                    &= \\frac{1}{\\sqrt{det(2\\pi\\Sigma_{j})}} \\exp({-\\frac{1}{2}(x_{i}-\\mu_{j})^T\\Sigma_{j}^{-1}(x_{i}-\\mu_{j})})\n",
    "    \\end{split}\n",
    "    \\tag{4}\n",
    "$$\n"
   ]
  },
  {
   "cell_type": "markdown",
   "metadata": {},
   "source": [
    "### Exercise 1\n",
    "Define the PDF of a multivariate normal distribution. You will need:\n",
    "* `np.matmul()`: matrix multiplication\n",
    "* `np.exp()`:  get the exponential of an input array\n",
    "* `np.linalg.inv()`: get the inverse of a matrix\n",
    "* `np.linalg.det()`: get the determinant of an array\n"
   ]
  },
  {
   "cell_type": "code",
   "execution_count": 131,
   "metadata": {},
   "outputs": [],
   "source": [
    "def pdf_mvn(x, mu, sigma):\n",
    "    \"\"\" Compute the probability P(x | MVN(mu, sigma))\n",
    "\n",
    "    Parameters\n",
    "    ----------\n",
    "    x : array_like\n",
    "        the inspected data.\n",
    "        A NumPy array in a shape of (p,), where p is the number of data dimension.\n",
    "    mu : array_like\n",
    "        the mean of the mvn distribution.\n",
    "        A NumPy array in a shape of (p,), where p is the number of data dimension.\n",
    "    sigma : array_like\n",
    "        the standard deviation of the mvn distribution.\n",
    "        A NumPy array in a shape of (p,), where p is the number of data dimension.\n",
    "\n",
    "    Returns\n",
    "    -------\n",
    "    a floating number\n",
    "        P(x | MVN(mu, sigma))\n",
    "\n",
    "    Examples\n",
    "    ---------\n",
    "    x  = [10, 20]\n",
    "    mu = [10, 20]\n",
    "    sigma = [[10, 5],\n",
    "             [5, 25]]\n",
    "    pdf_mvn(x, mu, sigma) # should return 0.010610\n",
    "    \"\"\"\n",
    "\n",
    "# Validation -------\n",
    "x = [10, 20]\n",
    "mu = [10, 20]\n",
    "sigma = [[10, 5],\n",
    "        [5, 25]]\n",
    "pdf_mvn(x, mu, sigma) # 0.010610"
   ]
  },
  {
   "cell_type": "markdown",
   "metadata": {},
   "source": [
    "## **Expectation Stage (E Stage)**\n",
    "Now, based on the Bayesian theorm, we have everything we need to calculate the posterior probability\n",
    "\n",
    "$$\n",
    "    \\begin{split}\n",
    "        P(A \\mid B)\n",
    "            &= \\frac{P(B \\mid A)P(A)}{P(B)} \\\\ \\\\\n",
    "            &= P(c_{j} \\mid x_{i}) \\\\ \\\\\n",
    "            &= \\frac{P(x_{i} \\mid c_{j})P(c_{j})}{{\\sum \\limits_{j=1}^{k} P(x_{i} \\mid c_{j}) P(c_{j})}} = r_{ij}\n",
    "    \\end{split}\n",
    "    \\tag{5}\n",
    "$$\n",
    "\n",
    "### Exercise 2\n",
    "Complete the function `calculate_R(X, pi, mu, sigma)`. You need to create a nested loop, and use the pre-defined function `pdf_mvn(X, mu, sigma)`.\n"
   ]
  },
  {
   "cell_type": "code",
   "execution_count": 138,
   "metadata": {},
   "outputs": [
    {
     "name": "stdout",
     "output_type": "stream",
     "text": [
      "[[nan nan]\n",
      " [nan nan]\n",
      " [nan nan]\n",
      " [nan nan]\n",
      " [nan nan]\n",
      " [nan nan]\n",
      " [nan nan]\n",
      " [nan nan]\n",
      " [nan nan]\n",
      " [nan nan]]\n",
      "(100, 2)\n"
     ]
    },
    {
     "name": "stderr",
     "output_type": "stream",
     "text": [
      "/var/folders/0k/_fn4_dgn04b2b44_sfhbshzr0000gp/T/ipykernel_38403/4224491704.py:32: RuntimeWarning: invalid value encountered in divide\n",
      "  R /= np.sum(R, axis=1)[:, None]\n"
     ]
    }
   ],
   "source": [
    "def calculate_R(X, pi, mu, sigma):\n",
    "    \"\"\"Calculate posterior probability, P(xi|cj)\n",
    "\n",
    "    Parameters\n",
    "    ----------\n",
    "    X : array_like\n",
    "        A NumPy array with a shape of (n, p),\n",
    "        where n is the number of observations,\n",
    "        and p is the data dimension.\n",
    "    pi : array_like\n",
    "        A NumPy array with a shape of (k,).\n",
    "        Prior, P(A).\n",
    "    mu : array_like\n",
    "        A Numpy array with a shape of (k, p)\n",
    "        The mean of the inspected MVN distribution\n",
    "    sigma : array_like\n",
    "        A Numpy array with a shape of (k, p, p)\n",
    "        The covariance of the inspected MVN distribution\n",
    "\n",
    "    Returns\n",
    "    -------\n",
    "    array_like, a NumPy array with a shape of (n, k),\n",
    "    where n is the number of observations,\n",
    "    and k is the number of clusters.\n",
    "    \"\"\"\n",
    "    # create an empty R matrix\n",
    "    n, k = len(X), len(mu)\n",
    "    R = np.zeros((n, k))\n",
    "    # numerator\n",
    "    pass\n",
    "    # denominator\n",
    "    R /= np.sum(R, axis=1)[:, None]\n",
    "    return R\n",
    "\n",
    "# Validation ---\n",
    "R = calculate_R(data, pi,ls_mu, ls_sigma)\n",
    "print(R[:10, ])\n",
    "print(R.shape)\n"
   ]
  },
  {
   "cell_type": "markdown",
   "metadata": {},
   "source": [
    "## **Maximization Stage (M Stage)**\n",
    "In the M stage, we need to update the hypothesis $\\theta$ to maximize the likelihood, $\\ell(\\theta)$. The hypothesis includes the prior $P(c_j)$, the mean $\\mu_j$, and the coariance $\\Sigma_j$ for the distribution $j$. To do this, we can use the posterior probability $r_{ij}$ to assign weight to each observation."
   ]
  },
  {
   "cell_type": "markdown",
   "metadata": {},
   "source": [
    "$$\n",
    "    \\begin{split}\n",
    "        P(c_{j})&= \\frac{\\sum \\limits_{i=1}^{n} r_{ij}}\n",
    "                                   {\\sum \\limits_{j=1}^{k}\\sum \\limits_{i=1}^{n} r_{ij}}\\\\\\\\\n",
    "        \\mu_{j} &= \\frac{\\sum \\limits_{i=1}^{n} r_{ij}x_i}\n",
    "                        {\\sum \\limits_{i=1}^{n} r_{ij}}\\\\\\\\\n",
    "        \\Sigma_{j} &= \\frac{\\sum \\limits_{i=1}^{n} r_{ij}(x_i - \\mu_j)^T(x_i - \\mu_j)}\n",
    "                           {\\sum \\limits_{i=1}^{n} r_{ij}}\\\\\n",
    "    \\end{split}\n",
    "$$"
   ]
  },
  {
   "cell_type": "code",
   "execution_count": 96,
   "metadata": {},
   "outputs": [],
   "source": [
    "def update_pi(R):\n",
    "    return R.mean(axis=0)\n",
    "\n",
    "def update_mu(R, X):\n",
    "    n, k = R.shape\n",
    "    new_mu = [0] * k\n",
    "    for j in range(k):\n",
    "        num = np.sum(X * R[:, j][:, None], axis=0)\n",
    "        den = np.sum(R[:, j])\n",
    "        new_mu[j] = num / den\n",
    "    return new_mu\n",
    "\n",
    "def update_sigma(R, X, mu):\n",
    "    n, k = R.shape\n",
    "    new_sigma = [0] * k\n",
    "    for j in range(k):\n",
    "        # weighted mean squared devication\n",
    "        weighted_MSD = [np.matmul((x - mu[j])[:, None], (x - mu[j])[:, None].T) * r for x, r in zip(X, R[:, j])]\n",
    "        new_sigma[j] = np.sum(weighted_MSD, axis=0) / np.sum(R[:, j])\n",
    "    return new_sigma"
   ]
  },
  {
   "cell_type": "markdown",
   "metadata": {},
   "source": [
    "## **Maximum likelihood estimation**\n",
    "\n",
    "$$\n",
    "    \\begin{split}\n",
    "        arg \\max_{\\theta} \\ell(\\theta)\n",
    "            &= arg \\max_{\\theta} \\ln \\prod\\limits_{i=1}^{n} P(x_i \\mid \\theta) \\\\\n",
    "            &= arg \\max_{\\theta} \\sum \\limits_{i=1}^{n} \\ln P(x_i \\mid \\theta) \\\\\n",
    "            &= arg \\max_{\\theta} \\sum \\limits_{i=1}^{n} \\ln \\sum \\limits_{j=1}^{k} P(x_i \\mid c_j) P(c_j)\n",
    "    \\end{split}\n",
    "$$\n",
    "\n",
    "where\n",
    "$$\n",
    "    \\theta = [c_1,...,c_k, P(c_1), ..., P(c_k)]\n",
    "$$"
   ]
  },
  {
   "cell_type": "code",
   "execution_count": null,
   "metadata": {},
   "outputs": [],
   "source": [
    "def get_ll(X, pi, mu, sigma):\n",
    "    n = len(X)\n",
    "    k = len(pi)\n",
    "    mat_ll = np.zeros((n, k))\n",
    "    for i in range(n):\n",
    "        for j in range(k):\n",
    "            mat_ll[i, j] = pdf_mvn(X[i], mu[j], sigma[j]) * pi[j]\n",
    "    ll = np.log(np.sum(mat_ll, axis=1)).sum()\n",
    "    return ll"
   ]
  },
  {
   "cell_type": "markdown",
   "metadata": {},
   "source": [
    "## **Put things together**\n",
    "We have defined everything we need in EM algorithm. Now, let's try to put code blocks into one single function."
   ]
  },
  {
   "cell_type": "markdown",
   "metadata": {},
   "source": [
    "### Exercise 3\n",
    "You will need:\n",
    "* `init_states(X, k)` returns $\\mu$, $\\Sigma$, and $pi$\n",
    "* `calculate_R(X, pi, mu, sigma)` returns $P(cj|xi)$\n",
    "* `update_pi(R)` returns $P(c_j)$\n",
    "* `update_mu(R, X)` returns updated $\\mu$\n",
    "* `update_sigma(R, X, mu)` returns updated $\\Sigma$\n",
    "<center><img src=\"res/l04/gmm.png?\" width=\"600\"/></center>"
   ]
  },
  {
   "cell_type": "code",
   "execution_count": null,
   "metadata": {},
   "outputs": [],
   "source": [
    "def gmm(X, k):\n",
    "    # init\n",
    "    pass\n",
    "    # likelihood\n",
    "    ll = np.log(0)\n",
    "    # EM iterations\n",
    "    while True:\n",
    "        # update ll\n",
    "        ll_prev = ll\n",
    "        # E step\n",
    "        pass\n",
    "        # M step\n",
    "        pass\n",
    "        # get ll\n",
    "        ll = get_ll(X, pi, mu, sigma)\n",
    "        # check improvement\n",
    "        if ll - ll_prev < 3:\n",
    "            break\n",
    "    # return\n",
    "    return dict(labels=R.argmax(axis=1),\n",
    "                mu=mu, sigma=sigma, ll=ll)"
   ]
  },
  {
   "cell_type": "markdown",
   "metadata": {},
   "source": [
    "## **Comparison of the resutls between K-means and GMM**"
   ]
  },
  {
   "cell_type": "code",
   "execution_count": 142,
   "metadata": {},
   "outputs": [
    {
     "data": {
      "text/plain": [
       "<matplotlib.collections.PathCollection at 0x148d7aca0>"
      ]
     },
     "execution_count": 142,
     "metadata": {},
     "output_type": "execute_result"
    },
    {
     "data": {
      "image/png": "[encoded data removed]",
      "text/plain": [
       "<Figure size 576x576 with 1 Axes>"
      ]
     },
     "metadata": {
      "needs_background": "light"
     },
     "output_type": "display_data"
    }
   ],
   "source": [
    "import matplotlib.pyplot as plt\n",
    "\n",
    "k = 2\n",
    "n = 300\n",
    "N = n * k\n",
    "means = [[50, 50], [50, 50]]\n",
    "stds  = [[[200, 0],\n",
    "          [0, 20]],\n",
    "         [[20, 0],\n",
    "          [00, 200]]]\n",
    "data = []\n",
    "for mean, std in zip(means, stds):\n",
    "    data += [np.random.multivariate_normal(mean=mean, cov=std, size=n)]\n",
    "data = np.concatenate(data)\n",
    "# plotting\n",
    "plt.figure(figsize=(8, 8))\n",
    "plt.scatter(data[:, 0], data[:, 1], alpha=.5)"
   ]
  },
  {
   "cell_type": "code",
   "execution_count": 146,
   "metadata": {},
   "outputs": [],
   "source": [
    "from modules.gmm import gmm\n",
    "from modules.kmeans import KMeans\n",
    "obj_k = KMeans(data, k=2)\n",
    "obj_g = gmm(data, k=2)"
   ]
  },
  {
   "cell_type": "code",
   "execution_count": 147,
   "metadata": {},
   "outputs": [
    {
     "data": {
      "text/plain": [
       "<matplotlib.legend.Legend at 0x148e3cbe0>"
      ]
     },
     "execution_count": 147,
     "metadata": {},
     "output_type": "execute_result"
    },
    {
     "data": {
      "image/png": "[encoded data removed]",
      "text/plain": [
       "<Figure size 1080x576 with 2 Axes>"
      ]
     },
     "metadata": {
      "needs_background": "light"
     },
     "output_type": "display_data"
    }
   ],
   "source": [
    "fig, axes = plt.subplots(nrows=1, ncols=2, figsize=(15, 8))\n",
    "\n",
    "axes[0].scatter(data[obj_k[\"labels\"]==0, 0], data[obj_k[\"labels\"]==0, 1], c=\"red\", alpha=.5, label=\"cluster_1\")\n",
    "axes[0].scatter(data[obj_k[\"labels\"]==1, 0], data[obj_k[\"labels\"]==1, 1], c=\"blue\", alpha=.5, label=\"cluster_2\")\n",
    "axes[0].set_title(\"K-menas\")\n",
    "axes[0].legend()\n",
    "\n",
    "axes[1].set_title(\"GMM\")\n",
    "axes[1].scatter(data[obj_g[\"labels\"]==0, 0], data[obj_g[\"labels\"]==0, 1], c=\"red\", alpha=.5, label=\"cluster_1\")\n",
    "axes[1].scatter(data[obj_g[\"labels\"]==1, 0], data[obj_g[\"labels\"]==1, 1], c=\"blue\", alpha=.5, label=\"cluster_2\")\n",
    "axes[1].legend()"
   ]
  },
  {
   "cell_type": "code",
   "execution_count": 149,
   "metadata": {},
   "outputs": [
    {
     "data": {
      "text/plain": [
       "[-4521.146705304612,\n",
       " -4517.82279786183,\n",
       " -4508.8674538301175,\n",
       " -4485.80827093142,\n",
       " -4441.371821708426,\n",
       " -4396.4799848599,\n",
       " -4374.348070372871,\n",
       " -4368.477779430605,\n",
       " -4367.428853450685,\n",
       " -4367.239285322984,\n",
       " -4367.187325857492,\n",
       " -4367.165618461024,\n",
       " -4367.154778302311,\n",
       " -4367.149089584686,\n",
       " -4367.146066560346,\n",
       " -4367.144454729019,\n",
       " -4367.143594446629,\n",
       " -4367.143135110126,\n",
       " -4367.142889807061,\n",
       " -4367.14275879126]"
      ]
     },
     "execution_count": 149,
     "metadata": {},
     "output_type": "execute_result"
    }
   ],
   "source": [
    "obj_g[\"ll\"]"
   ]
  },
  {
   "cell_type": "markdown",
   "metadata": {},
   "source": [
    "## **Work with a real image**"
   ]
  },
  {
   "cell_type": "markdown",
   "metadata": {},
   "source": [
    "### Inspect the image"
   ]
  },
  {
   "cell_type": "code",
   "execution_count": 160,
   "metadata": {},
   "outputs": [
    {
     "name": "stdout",
     "output_type": "stream",
     "text": [
      "Shape: \n",
      " (128, 227, 3)\n",
      "Data: \n",
      " [[134 135  75]\n",
      " [150 152  89]\n",
      " [157 162  96]\n",
      " [169 174 107]\n",
      " [156 163  96]\n",
      " [136 142  78]\n",
      " [ 85  93  33]\n",
      " [ 46  53   1]\n",
      " [ 51  59  12]\n",
      " [ 60  67  25]]\n"
     ]
    }
   ],
   "source": [
    "from modules.image_handler import load_img\n",
    "img = load_img(\"data/plots.jpg\")\n",
    "h, w, c = img.shape\n",
    "data = img.reshape((-1, c))\n",
    "print(\"Shape: \\n\", img.shape)\n",
    "print(\"Data: \\n\", data[:10])"
   ]
  },
  {
   "cell_type": "markdown",
   "metadata": {},
   "source": [
    "### Cluster the image by GMM"
   ]
  },
  {
   "cell_type": "code",
   "execution_count": 172,
   "metadata": {},
   "outputs": [],
   "source": [
    "from modules.gmm import gmm_sklearn\n",
    "obj_g  = gmm_sklearn(data, k=3)\n",
    "labels = obj_g[\"labels\"]\n",
    "centers = obj_g[\"centers\"].astype(int)\n",
    "# recover its shape to a 2D array\n",
    "img_new = centers[labels].reshape((h, w, 3))"
   ]
  },
  {
   "cell_type": "markdown",
   "metadata": {},
   "source": [
    "### Visualize the results"
   ]
  },
  {
   "cell_type": "code",
   "execution_count": 173,
   "metadata": {},
   "outputs": [
    {
     "data": {
      "text/plain": [
       "Text(0.5, 1.0, 'Clustered Image')"
      ]
     },
     "execution_count": 173,
     "metadata": {},
     "output_type": "execute_result"
    },
    {
     "data": {
      "image/png": "[encoded data removed]",
      "text/plain": [
       "<Figure size 1080x360 with 2 Axes>"
      ]
     },
     "metadata": {
      "needs_background": "light"
     },
     "output_type": "display_data"
    }
   ],
   "source": [
    "fig, axes = plt.subplots(nrows=1, ncols=2, figsize=(15, 5))\n",
    "axes[0].imshow(img)\n",
    "axes[0].set_title(\"Original Image\")\n",
    "axes[1].imshow(img_new)\n",
    "axes[1].set_title(\"Clustered Image\")"
   ]
  },
  {
   "cell_type": "code",
   "execution_count": 165,
   "metadata": {},
   "outputs": [
    {
     "name": "stdout",
     "output_type": "stream",
     "text": [
      "   red  green  blue\n",
      "0  134    135    75\n",
      "1  150    152    89\n",
      "2  157    162    96\n",
      "3  169    174   107\n",
      "4  156    163    96\n",
      "5  136    142    78\n",
      "6   85     93    33\n",
      "7   46     53     1\n",
      "8   51     59    12\n",
      "9   60     67    25\n"
     ]
    }
   ],
   "source": [
    "import pandas as pd\n",
    "df = pd.DataFrame(img.reshape((-1, 3)))\n",
    "df.columns = [\"red\", \"green\", \"blue\"]\n",
    "print(df.iloc[:10])"
   ]
  },
  {
   "cell_type": "code",
   "execution_count": 167,
   "metadata": {},
   "outputs": [
    {
     "data": {
      "application/vnd.plotly.v1+json": {
       "config": {
        "plotlyServerURL": "https://plot.ly"
       },
       "data": [
        {
         "marker": {
          "opacity": 0.7,
          "size": 5,
          "symbol": "circle"
         },
         "mode": "markers",
         "name": "cluster_1",
         "type": "scatter3d",
         "x": [
          134,
          150,
          130,
          157,
          129,
          143,
          137,
          141,
          134,
          117,
          137,
          130,
          132,
          147,
          138,
          146,
          103,
          126,
          133,
          144,
          129,
          130,
          148,
          136,
          110,
          111,
          93,
          107,
          130,
          143,
          110,
          144,
          146,
          150,
          138,
          140,
          154,
          141,
          141,
          131,
          141,
          151,
          157,
          142,
          157,
          148,
          116,
          145,
          146,
          157,
          151,
          133,
          126,
          102,
          125,
          125,
          133,
          141,
          117,
          129,
          150,
          164,
          146,
          145,
          150,
          117,
          120,
          180,
          135,
          150,
          103,
          120,
          151,
          148,
          134,
          182,
          119,
          128,
          143,
          143,
          175,
          162,
          153,
          145,
          154,
          99,
          140,
          124,
          143,
          162,
          141,
          123,
          121,
          125,
          162,
          110,
          159,
          152,
          152,
          141,
          129,
          145,
          134,
          127
         ],
         "y": [
          135,
          156,
          133,
          158,
          137,
          148,
          138,
          141,
          140,
          121,
          146,
          135,
          139,
          153,
          137,
          147,
          108,
          125,
          140,
          144,
          130,
          130,
          152,
          135,
          109,
          105,
          93,
          109,
          128,
          149,
          104,
          151,
          148,
          155,
          147,
          141,
          161,
          146,
          146,
          133,
          152,
          148,
          165,
          144,
          161,
          150,
          116,
          143,
          148,
          157,
          152,
          139,
          131,
          101,
          125,
          129,
          128,
          144,
          117,
          129,
          149,
          170,
          144,
          151,
          151,
          119,
          117,
          179,
          136,
          152,
          105,
          125,
          151,
          148,
          136,
          186,
          119,
          126,
          147,
          140,
          174,
          162,
          154,
          150,
          152,
          102,
          142,
          127,
          138,
          163,
          145,
          128,
          129,
          125,
          165,
          109,
          159,
          155,
          153,
          142,
          131,
          147,
          138,
          132
         ],
         "z": [
          75,
          96,
          76,
          98,
          80,
          82,
          80,
          79,
          76,
          62,
          81,
          77,
          69,
          83,
          83,
          90,
          52,
          68,
          72,
          80,
          72,
          70,
          91,
          79,
          65,
          55,
          43,
          62,
          77,
          89,
          52,
          81,
          82,
          88,
          84,
          81,
          84,
          79,
          79,
          70,
          84,
          77,
          90,
          79,
          85,
          77,
          56,
          86,
          99,
          93,
          82,
          75,
          67,
          53,
          73,
          70,
          73,
          73,
          57,
          67,
          93,
          98,
          87,
          77,
          91,
          53,
          72,
          114,
          78,
          79,
          58,
          69,
          97,
          84,
          71,
          109,
          69,
          69,
          88,
          73,
          109,
          92,
          96,
          84,
          93,
          49,
          79,
          80,
          80,
          95,
          86,
          70,
          70,
          63,
          96,
          53,
          95,
          84,
          93,
          74,
          68,
          82,
          79,
          68
         ]
        },
        {
         "marker": {
          "opacity": 0.7,
          "size": 5,
          "symbol": "circle"
         },
         "mode": "markers",
         "name": "cluster_2",
         "type": "scatter3d",
         "x": [
          37,
          31,
          45,
          28,
          15,
          25,
          24,
          19,
          33,
          13,
          40,
          9,
          30,
          26,
          27,
          31,
          18,
          22,
          21,
          19,
          17,
          33,
          32,
          32,
          20,
          8,
          26,
          43,
          22,
          36,
          41,
          39,
          41,
          29,
          36,
          32,
          30,
          16,
          20,
          27,
          26,
          14,
          9,
          24,
          29,
          36,
          29,
          17,
          38,
          34,
          33,
          36,
          18,
          36,
          28,
          30,
          29,
          28,
          36,
          40,
          26,
          28,
          38,
          27,
          22,
          20,
          43,
          45,
          21,
          30,
          10,
          29,
          26,
          23,
          21,
          38,
          27,
          24,
          40,
          26,
          18,
          31,
          36,
          30,
          32,
          19,
          26,
          19,
          17,
          16,
          25,
          25,
          21,
          24,
          29,
          28,
          18,
          14,
          23,
          30,
          31,
          25,
          20,
          26,
          29,
          20,
          34,
          16,
          22,
          29,
          26,
          24,
          22,
          21,
          16,
          34,
          31,
          30,
          26,
          31,
          23,
          33
         ],
         "y": [
          49,
          37,
          68,
          40,
          23,
          44,
          43,
          29,
          51,
          38,
          61,
          26,
          61,
          48,
          40,
          53,
          35,
          48,
          45,
          36,
          34,
          59,
          53,
          58,
          37,
          30,
          47,
          78,
          51,
          71,
          64,
          48,
          66,
          55,
          59,
          56,
          39,
          23,
          28,
          30,
          56,
          27,
          27,
          44,
          37,
          63,
          53,
          30,
          77,
          54,
          53,
          55,
          44,
          66,
          50,
          51,
          48,
          51,
          65,
          60,
          43,
          42,
          67,
          47,
          45,
          38,
          82,
          74,
          50,
          54,
          20,
          55,
          40,
          48,
          38,
          53,
          52,
          40,
          69,
          46,
          19,
          40,
          47,
          48,
          44,
          33,
          45,
          37,
          35,
          33,
          44,
          42,
          47,
          48,
          52,
          58,
          33,
          25,
          36,
          47,
          50,
          43,
          35,
          50,
          47,
          42,
          60,
          30,
          34,
          53,
          50,
          41,
          45,
          39,
          31,
          53,
          50,
          48,
          51,
          61,
          41,
          56
         ],
         "z": [
          29,
          33,
          42,
          28,
          12,
          25,
          23,
          21,
          35,
          8,
          42,
          7,
          30,
          25,
          23,
          30,
          16,
          23,
          23,
          20,
          16,
          34,
          34,
          33,
          19,
          7,
          28,
          38,
          21,
          41,
          38,
          31,
          37,
          30,
          33,
          22,
          36,
          15,
          15,
          21,
          30,
          10,
          15,
          17,
          24,
          28,
          31,
          20,
          33,
          29,
          28,
          35,
          15,
          30,
          29,
          32,
          28,
          31,
          34,
          32,
          27,
          25,
          36,
          20,
          25,
          12,
          51,
          43,
          20,
          28,
          11,
          26,
          27,
          26,
          20,
          34,
          30,
          14,
          38,
          19,
          14,
          21,
          33,
          24,
          30,
          18,
          25,
          21,
          21,
          15,
          25,
          26,
          20,
          22,
          32,
          32,
          14,
          11,
          19,
          31,
          31,
          27,
          16,
          24,
          35,
          19,
          31,
          17,
          24,
          29,
          28,
          23,
          25,
          23,
          12,
          31,
          31,
          26,
          19,
          27,
          15,
          30
         ]
        },
        {
         "marker": {
          "opacity": 0.7,
          "size": 5,
          "symbol": "circle"
         },
         "mode": "markers",
         "name": "cluster_3",
         "type": "scatter3d",
         "x": [
          78,
          140,
          52,
          80,
          74,
          96,
          58,
          115,
          24,
          58,
          32,
          12,
          35,
          47,
          112,
          39,
          62,
          40,
          61,
          39,
          66,
          76,
          51,
          112,
          156,
          102,
          94,
          36,
          61,
          65,
          41,
          42,
          73,
          118,
          89,
          151,
          99,
          38,
          21,
          45,
          47,
          130,
          71,
          85,
          115,
          106,
          76,
          133,
          26,
          78,
          115,
          49,
          55,
          115,
          75,
          91,
          102,
          119,
          66,
          70,
          117,
          119,
          85,
          93,
          104
         ],
         "y": [
          80,
          151,
          57,
          84,
          83,
          104,
          55,
          116,
          26,
          81,
          51,
          30,
          37,
          70,
          134,
          42,
          82,
          50,
          76,
          55,
          82,
          99,
          67,
          128,
          146,
          103,
          96,
          32,
          76,
          67,
          41,
          63,
          102,
          127,
          96,
          154,
          99,
          63,
          35,
          70,
          66,
          151,
          82,
          95,
          124,
          125,
          80,
          141,
          31,
          80,
          122,
          58,
          70,
          117,
          80,
          102,
          100,
          120,
          93,
          88,
          137,
          133,
          86,
          111,
          107
         ],
         "z": [
          31,
          93,
          37,
          57,
          54,
          47,
          40,
          74,
          13,
          39,
          19,
          4,
          26,
          26,
          88,
          11,
          29,
          25,
          53,
          26,
          43,
          55,
          30,
          66,
          84,
          71,
          56,
          20,
          55,
          17,
          29,
          24,
          44,
          72,
          55,
          107,
          73,
          23,
          10,
          30,
          38,
          86,
          50,
          45,
          79,
          70,
          43,
          90,
          9,
          58,
          78,
          29,
          37,
          78,
          57,
          62,
          62,
          86,
          52,
          46,
          76,
          80,
          46,
          63,
          62
         ]
        }
       ],
       "layout": {
        "margin": {
         "b": 0,
         "l": 100,
         "r": 200,
         "t": 0
        },
        "scene": {
         "xaxis": {
          "title": {
           "text": "red"
          }
         },
         "yaxis": {
          "title": {
           "text": "green"
          }
         },
         "zaxis": {
          "title": {
           "text": "blue"
          }
         }
        },
        "template": {
         "data": {
          "bar": [
           {
            "error_x": {
             "color": "#2a3f5f"
            },
            "error_y": {
             "color": "#2a3f5f"
            },
            "marker": {
             "line": {
              "color": "#E5ECF6",
              "width": 0.5
             },
             "pattern": {
              "fillmode": "overlay",
              "size": 10,
              "solidity": 0.2
             }
            },
            "type": "bar"
           }
          ],
          "barpolar": [
           {
            "marker": {
             "line": {
              "color": "#E5ECF6",
              "width": 0.5
             },
             "pattern": {
              "fillmode": "overlay",
              "size": 10,
              "solidity": 0.2
             }
            },
            "type": "barpolar"
           }
          ],
          "carpet": [
           {
            "aaxis": {
             "endlinecolor": "#2a3f5f",
             "gridcolor": "white",
             "linecolor": "white",
             "minorgridcolor": "white",
             "startlinecolor": "#2a3f5f"
            },
            "baxis": {
             "endlinecolor": "#2a3f5f",
             "gridcolor": "white",
             "linecolor": "white",
             "minorgridcolor": "white",
             "startlinecolor": "#2a3f5f"
            },
            "type": "carpet"
           }
          ],
          "choropleth": [
           {
            "colorbar": {
             "outlinewidth": 0,
             "ticks": ""
            },
            "type": "choropleth"
           }
          ],
          "contour": [
           {
            "colorbar": {
             "outlinewidth": 0,
             "ticks": ""
            },
            "colorscale": [
             [
              0,
              "#0d0887"
             ],
             [
              0.1111111111111111,
              "#46039f"
             ],
             [
              0.2222222222222222,
              "#7201a8"
             ],
             [
              0.3333333333333333,
              "#9c179e"
             ],
             [
              0.4444444444444444,
              "#bd3786"
             ],
             [
              0.5555555555555556,
              "#d8576b"
             ],
             [
              0.6666666666666666,
              "#ed7953"
             ],
             [
              0.7777777777777778,
              "#fb9f3a"
             ],
             [
              0.8888888888888888,
              "#fdca26"
             ],
             [
              1,
              "#f0f921"
             ]
            ],
            "type": "contour"
           }
          ],
          "contourcarpet": [
           {
            "colorbar": {
             "outlinewidth": 0,
             "ticks": ""
            },
            "type": "contourcarpet"
           }
          ],
          "heatmap": [
           {
            "colorbar": {
             "outlinewidth": 0,
             "ticks": ""
            },
            "colorscale": [
             [
              0,
              "#0d0887"
             ],
             [
              0.1111111111111111,
              "#46039f"
             ],
             [
              0.2222222222222222,
              "#7201a8"
             ],
             [
              0.3333333333333333,
              "#9c179e"
             ],
             [
              0.4444444444444444,
              "#bd3786"
             ],
             [
              0.5555555555555556,
              "#d8576b"
             ],
             [
              0.6666666666666666,
              "#ed7953"
             ],
             [
              0.7777777777777778,
              "#fb9f3a"
             ],
             [
              0.8888888888888888,
              "#fdca26"
             ],
             [
              1,
              "#f0f921"
             ]
            ],
            "type": "heatmap"
           }
          ],
          "heatmapgl": [
           {
            "colorbar": {
             "outlinewidth": 0,
             "ticks": ""
            },
            "colorscale": [
             [
              0,
              "#0d0887"
             ],
             [
              0.1111111111111111,
              "#46039f"
             ],
             [
              0.2222222222222222,
              "#7201a8"
             ],
             [
              0.3333333333333333,
              "#9c179e"
             ],
             [
              0.4444444444444444,
              "#bd3786"
             ],
             [
              0.5555555555555556,
              "#d8576b"
             ],
             [
              0.6666666666666666,
              "#ed7953"
             ],
             [
              0.7777777777777778,
              "#fb9f3a"
             ],
             [
              0.8888888888888888,
              "#fdca26"
             ],
             [
              1,
              "#f0f921"
             ]
            ],
            "type": "heatmapgl"
           }
          ],
          "histogram": [
           {
            "marker": {
             "pattern": {
              "fillmode": "overlay",
              "size": 10,
              "solidity": 0.2
             }
            },
            "type": "histogram"
           }
          ],
          "histogram2d": [
           {
            "colorbar": {
             "outlinewidth": 0,
             "ticks": ""
            },
            "colorscale": [
             [
              0,
              "#0d0887"
             ],
             [
              0.1111111111111111,
              "#46039f"
             ],
             [
              0.2222222222222222,
              "#7201a8"
             ],
             [
              0.3333333333333333,
              "#9c179e"
             ],
             [
              0.4444444444444444,
              "#bd3786"
             ],
             [
              0.5555555555555556,
              "#d8576b"
             ],
             [
              0.6666666666666666,
              "#ed7953"
             ],
             [
              0.7777777777777778,
              "#fb9f3a"
             ],
             [
              0.8888888888888888,
              "#fdca26"
             ],
             [
              1,
              "#f0f921"
             ]
            ],
            "type": "histogram2d"
           }
          ],
          "histogram2dcontour": [
           {
            "colorbar": {
             "outlinewidth": 0,
             "ticks": ""
            },
            "colorscale": [
             [
              0,
              "#0d0887"
             ],
             [
              0.1111111111111111,
              "#46039f"
             ],
             [
              0.2222222222222222,
              "#7201a8"
             ],
             [
              0.3333333333333333,
              "#9c179e"
             ],
             [
              0.4444444444444444,
              "#bd3786"
             ],
             [
              0.5555555555555556,
              "#d8576b"
             ],
             [
              0.6666666666666666,
              "#ed7953"
             ],
             [
              0.7777777777777778,
              "#fb9f3a"
             ],
             [
              0.8888888888888888,
              "#fdca26"
             ],
             [
              1,
              "#f0f921"
             ]
            ],
            "type": "histogram2dcontour"
           }
          ],
          "mesh3d": [
           {
            "colorbar": {
             "outlinewidth": 0,
             "ticks": ""
            },
            "type": "mesh3d"
           }
          ],
          "parcoords": [
           {
            "line": {
             "colorbar": {
              "outlinewidth": 0,
              "ticks": ""
             }
            },
            "type": "parcoords"
           }
          ],
          "pie": [
           {
            "automargin": true,
            "type": "pie"
           }
          ],
          "scatter": [
           {
            "fillpattern": {
             "fillmode": "overlay",
             "size": 10,
             "solidity": 0.2
            },
            "type": "scatter"
           }
          ],
          "scatter3d": [
           {
            "line": {
             "colorbar": {
              "outlinewidth": 0,
              "ticks": ""
             }
            },
            "marker": {
             "colorbar": {
              "outlinewidth": 0,
              "ticks": ""
             }
            },
            "type": "scatter3d"
           }
          ],
          "scattercarpet": [
           {
            "marker": {
             "colorbar": {
              "outlinewidth": 0,
              "ticks": ""
             }
            },
            "type": "scattercarpet"
           }
          ],
          "scattergeo": [
           {
            "marker": {
             "colorbar": {
              "outlinewidth": 0,
              "ticks": ""
             }
            },
            "type": "scattergeo"
           }
          ],
          "scattergl": [
           {
            "marker": {
             "colorbar": {
              "outlinewidth": 0,
              "ticks": ""
             }
            },
            "type": "scattergl"
           }
          ],
          "scattermapbox": [
           {
            "marker": {
             "colorbar": {
              "outlinewidth": 0,
              "ticks": ""
             }
            },
            "type": "scattermapbox"
           }
          ],
          "scatterpolar": [
           {
            "marker": {
             "colorbar": {
              "outlinewidth": 0,
              "ticks": ""
             }
            },
            "type": "scatterpolar"
           }
          ],
          "scatterpolargl": [
           {
            "marker": {
             "colorbar": {
              "outlinewidth": 0,
              "ticks": ""
             }
            },
            "type": "scatterpolargl"
           }
          ],
          "scatterternary": [
           {
            "marker": {
             "colorbar": {
              "outlinewidth": 0,
              "ticks": ""
             }
            },
            "type": "scatterternary"
           }
          ],
          "surface": [
           {
            "colorbar": {
             "outlinewidth": 0,
             "ticks": ""
            },
            "colorscale": [
             [
              0,
              "#0d0887"
             ],
             [
              0.1111111111111111,
              "#46039f"
             ],
             [
              0.2222222222222222,
              "#7201a8"
             ],
             [
              0.3333333333333333,
              "#9c179e"
             ],
             [
              0.4444444444444444,
              "#bd3786"
             ],
             [
              0.5555555555555556,
              "#d8576b"
             ],
             [
              0.6666666666666666,
              "#ed7953"
             ],
             [
              0.7777777777777778,
              "#fb9f3a"
             ],
             [
              0.8888888888888888,
              "#fdca26"
             ],
             [
              1,
              "#f0f921"
             ]
            ],
            "type": "surface"
           }
          ],
          "table": [
           {
            "cells": {
             "fill": {
              "color": "#EBF0F8"
             },
             "line": {
              "color": "white"
             }
            },
            "header": {
             "fill": {
              "color": "#C8D4E3"
             },
             "line": {
              "color": "white"
             }
            },
            "type": "table"
           }
          ]
         },
         "layout": {
          "annotationdefaults": {
           "arrowcolor": "#2a3f5f",
           "arrowhead": 0,
           "arrowwidth": 1
          },
          "autotypenumbers": "strict",
          "coloraxis": {
           "colorbar": {
            "outlinewidth": 0,
            "ticks": ""
           }
          },
          "colorscale": {
           "diverging": [
            [
             0,
             "#8e0152"
            ],
            [
             0.1,
             "#c51b7d"
            ],
            [
             0.2,
             "#de77ae"
            ],
            [
             0.3,
             "#f1b6da"
            ],
            [
             0.4,
             "#fde0ef"
            ],
            [
             0.5,
             "#f7f7f7"
            ],
            [
             0.6,
             "#e6f5d0"
            ],
            [
             0.7,
             "#b8e186"
            ],
            [
             0.8,
             "#7fbc41"
            ],
            [
             0.9,
             "#4d9221"
            ],
            [
             1,
             "#276419"
            ]
           ],
           "sequential": [
            [
             0,
             "#0d0887"
            ],
            [
             0.1111111111111111,
             "#46039f"
            ],
            [
             0.2222222222222222,
             "#7201a8"
            ],
            [
             0.3333333333333333,
             "#9c179e"
            ],
            [
             0.4444444444444444,
             "#bd3786"
            ],
            [
             0.5555555555555556,
             "#d8576b"
            ],
            [
             0.6666666666666666,
             "#ed7953"
            ],
            [
             0.7777777777777778,
             "#fb9f3a"
            ],
            [
             0.8888888888888888,
             "#fdca26"
            ],
            [
             1,
             "#f0f921"
            ]
           ],
           "sequentialminus": [
            [
             0,
             "#0d0887"
            ],
            [
             0.1111111111111111,
             "#46039f"
            ],
            [
             0.2222222222222222,
             "#7201a8"
            ],
            [
             0.3333333333333333,
             "#9c179e"
            ],
            [
             0.4444444444444444,
             "#bd3786"
            ],
            [
             0.5555555555555556,
             "#d8576b"
            ],
            [
             0.6666666666666666,
             "#ed7953"
            ],
            [
             0.7777777777777778,
             "#fb9f3a"
            ],
            [
             0.8888888888888888,
             "#fdca26"
            ],
            [
             1,
             "#f0f921"
            ]
           ]
          },
          "colorway": [
           "#636efa",
           "#EF553B",
           "#00cc96",
           "#ab63fa",
           "#FFA15A",
           "#19d3f3",
           "#FF6692",
           "#B6E880",
           "#FF97FF",
           "#FECB52"
          ],
          "font": {
           "color": "#2a3f5f"
          },
          "geo": {
           "bgcolor": "white",
           "lakecolor": "white",
           "landcolor": "#E5ECF6",
           "showlakes": true,
           "showland": true,
           "subunitcolor": "white"
          },
          "hoverlabel": {
           "align": "left"
          },
          "hovermode": "closest",
          "mapbox": {
           "style": "light"
          },
          "paper_bgcolor": "white",
          "plot_bgcolor": "#E5ECF6",
          "polar": {
           "angularaxis": {
            "gridcolor": "white",
            "linecolor": "white",
            "ticks": ""
           },
           "bgcolor": "#E5ECF6",
           "radialaxis": {
            "gridcolor": "white",
            "linecolor": "white",
            "ticks": ""
           }
          },
          "scene": {
           "xaxis": {
            "backgroundcolor": "#E5ECF6",
            "gridcolor": "white",
            "gridwidth": 2,
            "linecolor": "white",
            "showbackground": true,
            "ticks": "",
            "zerolinecolor": "white"
           },
           "yaxis": {
            "backgroundcolor": "#E5ECF6",
            "gridcolor": "white",
            "gridwidth": 2,
            "linecolor": "white",
            "showbackground": true,
            "ticks": "",
            "zerolinecolor": "white"
           },
           "zaxis": {
            "backgroundcolor": "#E5ECF6",
            "gridcolor": "white",
            "gridwidth": 2,
            "linecolor": "white",
            "showbackground": true,
            "ticks": "",
            "zerolinecolor": "white"
           }
          },
          "shapedefaults": {
           "line": {
            "color": "#2a3f5f"
           }
          },
          "ternary": {
           "aaxis": {
            "gridcolor": "white",
            "linecolor": "white",
            "ticks": ""
           },
           "baxis": {
            "gridcolor": "white",
            "linecolor": "white",
            "ticks": ""
           },
           "bgcolor": "#E5ECF6",
           "caxis": {
            "gridcolor": "white",
            "linecolor": "white",
            "ticks": ""
           }
          },
          "title": {
           "x": 0.05
          },
          "xaxis": {
           "automargin": true,
           "gridcolor": "white",
           "linecolor": "white",
           "ticks": "",
           "title": {
            "standoff": 15
           },
           "zerolinecolor": "white",
           "zerolinewidth": 2
          },
          "yaxis": {
           "automargin": true,
           "gridcolor": "white",
           "linecolor": "white",
           "ticks": "",
           "title": {
            "standoff": 15
           },
           "zerolinecolor": "white",
           "zerolinewidth": 2
          }
         }
        }
       }
      }
     },
     "metadata": {},
     "output_type": "display_data"
    }
   ],
   "source": [
    "import plotly\n",
    "import plotly.express as px\n",
    "import plotly.graph_objs as go\n",
    "\n",
    "centers = obj_g[\"centers\"]\n",
    "labels  = obj_g[\"labels\"]\n",
    "\n",
    "colors     = [\"rgb(%d, %d, %d)\" % tuple(color.tolist()) for color in centers]\n",
    "dfs        = df.iloc[::100]\n",
    "labels_sub = labels[::100]\n",
    "ls_points  = []\n",
    "for i in range(3):\n",
    "    ls_points += [go.Scatter3d(x=dfs.loc[labels_sub==i, \"red\"],\n",
    "                               y=dfs.loc[labels_sub==i, \"green\"],\n",
    "                               z=dfs.loc[labels_sub==i, \"blue\"],\n",
    "                               mode='markers', name='cluster_%d' % (i + 1),\n",
    "                               marker=dict(size=5, symbol='circle', opacity=0.7))]\n",
    "# layout\n",
    "layout = go.Layout(scene=dict(xaxis=dict(title=\"red\"),\n",
    "                              yaxis=dict(title=\"green\"),\n",
    "                              zaxis=dict(title=\"blue\")),\n",
    "                   margin=dict(l=100, r=200, b=0, t=0))\n",
    "# show\n",
    "fig = go.Figure(data=ls_points, layout=layout)\n",
    "fig.show()\n"
   ]
  }
 ],
 "metadata": {
  "kernelspec": {
   "display_name": "Python 3.9.10 ('aikit')",
   "language": "python",
   "name": "python3"
  },
  "language_info": {
   "codemirror_mode": {
    "name": "ipython",
    "version": 3
   },
   "file_extension": ".py",
   "mimetype": "text/x-python",
   "name": "python",
   "nbconvert_exporter": "python",
   "pygments_lexer": "ipython3",
   "version": "3.9.10"
  },
  "orig_nbformat": 4,
  "vscode": {
   "interpreter": {
    "hash": "171765cd2d4b3fb19a4d5447669498b810cbcefc9297a20b45da55a7914d8111"
   }
  }
 },
 "nbformat": 4,
 "nbformat_minor": 2
}
